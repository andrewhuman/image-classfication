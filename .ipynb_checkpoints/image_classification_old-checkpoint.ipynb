{
 "cells": [
  {
   "cell_type": "markdown",
   "metadata": {
    "collapsed": true
   },
   "source": [
    "# Image Classification\n",
    "\n",
    "download the [CIFAR-10 dataset for python](https://www.cs.toronto.edu/~kriz/cifar-10-python.tar.gz).\n"
   ]
  },
  {
   "cell_type": "code",
   "execution_count": 1,
   "metadata": {},
   "outputs": [
    {
     "name": "stdout",
     "output_type": "stream",
     "text": [
      "All files found!\n"
     ]
    }
   ],
   "source": [
    "from urllib.request import urlretrieve\n",
    "from os.path import isfile, isdir\n",
    "from tqdm import tqdm\n",
    "import problem_unittests as tests\n",
    "import tarfile\n",
    "\n",
    "cifar10_dataset_folder_path = 'cifar-10-batches-py'\n",
    "\n",
    "# Use Floyd's cifar-10 dataset if present\n",
    "floyd_cifar10_location = '/input/cifar-10/python.tar.gz'\n",
    "if isfile(floyd_cifar10_location):\n",
    "    tar_gz_path = floyd_cifar10_location\n",
    "else:\n",
    "    tar_gz_path = 'cifar-10-python.tar.gz'\n",
    "\n",
    "class DLProgress(tqdm):\n",
    "    last_block = 0\n",
    "\n",
    "    def hook(self, block_num=1, block_size=1, total_size=None):\n",
    "        self.total = total_size\n",
    "        self.update((block_num - self.last_block) * block_size)\n",
    "        self.last_block = block_num\n",
    "\n",
    "if not isfile(tar_gz_path):\n",
    "    with DLProgress(unit='B', unit_scale=True, miniters=1, desc='CIFAR-10 Dataset') as pbar:\n",
    "        urlretrieve(\n",
    "            'https://www.cs.toronto.edu/~kriz/cifar-10-python.tar.gz',\n",
    "            tar_gz_path,\n",
    "            pbar.hook)\n",
    "\n",
    "if not isdir(cifar10_dataset_folder_path):\n",
    "    with tarfile.open(tar_gz_path) as tar:\n",
    "        tar.extractall()\n",
    "        tar.close()\n",
    "\n",
    "\n",
    "tests.test_folder_path(cifar10_dataset_folder_path)"
   ]
  },
  {
   "cell_type": "code",
   "execution_count": 2,
   "metadata": {},
   "outputs": [
    {
     "name": "stdout",
     "output_type": "stream",
     "text": [
      "\n",
      "Stats of batch 3:\n",
      "Samples: 10000\n",
      "Label Counts: {0: 994, 1: 1042, 2: 965, 3: 997, 4: 990, 5: 1029, 6: 978, 7: 1015, 8: 961, 9: 1029}\n",
      "First 20 Labels: [8, 5, 0, 6, 9, 2, 8, 3, 6, 2, 7, 4, 6, 9, 0, 0, 7, 3, 7, 2]\n",
      "\n",
      "Example of Image 555:\n",
      "Image - Min Value: 10 Max Value: 254\n",
      "Image - Shape: (32, 32, 3)\n",
      "Label - Label Id: 0 Name: airplane\n"
     ]
    },
    {
     "data": {
      "image/png": "[encoded data removed]",
      "text/plain": [
       "<matplotlib.figure.Figure at 0x16be4af3ef0>"
      ]
     },
     "metadata": {
      "image/png": {
       "height": 250,
       "width": 253
      }
     },
     "output_type": "display_data"
    }
   ],
   "source": [
    "%matplotlib inline\n",
    "%config InlineBackend.figure_format = 'retina'\n",
    "\n",
    "import helper\n",
    "import numpy as np\n",
    "\n",
    "# Explore the dataset\n",
    "batch_id = 3\n",
    "sample_id = 555\n",
    "helper.display_stats(cifar10_dataset_folder_path, batch_id, sample_id)"
   ]
  },
  {
   "cell_type": "code",
   "execution_count": 3,
   "metadata": {},
   "outputs": [
    {
     "name": "stdout",
     "output_type": "stream",
     "text": [
      "normalize x.shape =  (664, 32, 32, 3)\n",
      "Tests Passed\n"
     ]
    }
   ],
   "source": [
    "def normalize(x):\n",
    "    \"\"\"\n",
    "    Normalize a list of sample image data in the range of 0 to 1\n",
    "    : x: List of image data.  The image shape is (32, 32, 3)\n",
    "    : return: Numpy array of normalize data\n",
    "    \"\"\"\n",
    "    # TODO: Implement Function\n",
    "    print(\"normalize x.shape = \",x.shape)\n",
    "    return x / 255.0\n",
    "\n",
    "\n",
    "tests.test_normalize(normalize)"
   ]
  },
  {
   "cell_type": "code",
   "execution_count": 4,
   "metadata": {},
   "outputs": [
    {
     "name": "stdout",
     "output_type": "stream",
     "text": [
      "one_hot_encode y leng  =  952\n",
      "one_hot_encode y leng  =  5\n",
      "Tests Passed\n"
     ]
    }
   ],
   "source": [
    "def one_hot_encode(x):\n",
    "    \"\"\"\n",
    "    One hot encode a list of sample labels. Return a one-hot encoded vector for each label.\n",
    "    : x: List of sample Labels\n",
    "    : return: Numpy array of one-hot encoded labels\n",
    "    \"\"\"\n",
    "    # TODO: Implement Function\n",
    "#     print(x.shape)\n",
    "   \n",
    "    m = len(x)\n",
    "    print('one_hot_encode y leng  = ',m)\n",
    "    unit = np.eye(10)\n",
    "    out = np.zeros((m,10))\n",
    "    for i in range(0,m):\n",
    "        out[i] = unit[x[i],:]\n",
    "    #print('out shape  = ',out.shape)    \n",
    "    return out\n",
    "\n",
    "\n",
    "tests.test_one_hot_encode(one_hot_encode)"
   ]
  },
  {
   "cell_type": "code",
   "execution_count": 5,
   "metadata": {},
   "outputs": [
    {
     "name": "stdout",
     "output_type": "stream",
     "text": [
      "normalize x.shape =  (9000, 32, 32, 3)\n",
      "one_hot_encode y leng  =  9000\n",
      "normalize x.shape =  (9000, 32, 32, 3)\n",
      "one_hot_encode y leng  =  9000\n",
      "normalize x.shape =  (9000, 32, 32, 3)\n",
      "one_hot_encode y leng  =  9000\n",
      "normalize x.shape =  (9000, 32, 32, 3)\n",
      "one_hot_encode y leng  =  9000\n",
      "normalize x.shape =  (9000, 32, 32, 3)\n",
      "one_hot_encode y leng  =  9000\n",
      "normalize x.shape =  (5000, 32, 32, 3)\n",
      "one_hot_encode y leng  =  5000\n",
      "normalize x.shape =  (10000, 32, 32, 3)\n",
      "one_hot_encode y leng  =  10000\n"
     ]
    }
   ],
   "source": [
    "# Preprocess Training, Validation, and Testing Data\n",
    "helper.preprocess_and_save_data(cifar10_dataset_folder_path, normalize, one_hot_encode)"
   ]
  },
  {
   "cell_type": "code",
   "execution_count": 6,
   "metadata": {},
   "outputs": [
    {
     "name": "stdout",
     "output_type": "stream",
     "text": [
      "valid_features.shape =  (5000, 32, 32, 3)\n"
     ]
    }
   ],
   "source": [
    "\"\"\"\n",
    "DON'T MODIFY ANYTHING IN THIS CELL\n",
    "\"\"\"\n",
    "import pickle\n",
    "import problem_unittests as tests\n",
    "import helper\n",
    "\n",
    "# Load the Preprocessed Validation data\n",
    "valid_features, valid_labels = pickle.load(open('preprocess_validation.p', mode='rb'))\n",
    "print('valid_features.shape = ',valid_features.shape)"
   ]
  },
  {
   "cell_type": "code",
   "execution_count": 7,
   "metadata": {},
   "outputs": [
    {
     "name": "stdout",
     "output_type": "stream",
     "text": [
      "(32, 32, 3)\n",
      "Image Input Tests Passed.\n",
      "Label Input Tests Passed.\n",
      "Keep Prob Tests Passed.\n"
     ]
    }
   ],
   "source": [
    "import tensorflow as tf\n",
    "\n",
    "def neural_net_image_input(image_shape):\n",
    "    \"\"\"\n",
    "    Return a Tensor for a batch of image input\n",
    "    : image_shape: Shape of the images\n",
    "    : return: Tensor for image input.\n",
    "    \"\"\"\n",
    "    print(image_shape)\n",
    "    # TODO: Implement Function\n",
    "    \n",
    "    return tf.placeholder(dtype=tf.float32,shape=(None,*image_shape),name='x')\n",
    "\n",
    "\n",
    "def neural_net_label_input(n_classes):\n",
    "    \"\"\"\n",
    "    Return a Tensor for a batch of label input\n",
    "    : n_classes: Number of classes\n",
    "    : return: Tensor for label input.\n",
    "    \"\"\"\n",
    "    # TODO: Implement Function\n",
    "    return tf.placeholder(dtype=tf.float32,shape=(None,n_classes),name='y')\n",
    "\n",
    "\n",
    "def neural_net_keep_prob_input():\n",
    "    \"\"\"\n",
    "    Return a Tensor for keep probability\n",
    "    : return: Tensor for keep probability.\n",
    "    \"\"\"\n",
    "    # TODO: Implement Function\n",
    "    return tf.placeholder(dtype=tf.float32,name='keep_prob')\n",
    "\n",
    "def neural_net_regulation_scale():\n",
    "    return tf.placeholder(dtype=tf.float32,name='reguloss')\n",
    "\n",
    "def neural_new_is_training():\n",
    "    return tf.placeholder(dtype=tf.bool,name='is_training')\n",
    "\n",
    "\n",
    "\"\"\"\n",
    "DON'T MODIFY ANYTHING IN THIS CELL THAT IS BELOW THIS LINE\n",
    "\"\"\"\n",
    "tf.reset_default_graph()\n",
    "tests.test_nn_image_inputs(neural_net_image_input)\n",
    "tests.test_nn_label_inputs(neural_net_label_input)\n",
    "tests.test_nn_keep_prob_inputs(neural_net_keep_prob_input)"
   ]
  },
  {
   "cell_type": "code",
   "execution_count": 8,
   "metadata": {},
   "outputs": [
    {
     "data": {
      "text/plain": [
       "<tf.Tensor 'strided_slice:0' shape=(6,) dtype=float32>"
      ]
     },
     "execution_count": 8,
     "metadata": {},
     "output_type": "execute_result"
    }
   ],
   "source": [
    "tf.Variable(tf.random_normal((2,6)))[1]"
   ]
  },
  {
   "cell_type": "code",
   "execution_count": 9,
   "metadata": {
    "collapsed": true
   },
   "outputs": [],
   "source": [
    "def conv2d_mine(x_tensor, conv_num_outputs, conv_ksize, conv_strides,is_training):\n",
    "    \"\"\"\n",
    "    Apply convolution then max pooling to x_tensor\n",
    "    :param x_tensor: TensorFlow Tensor\n",
    "    :param conv_num_outputs: Number of outputs for the convolutional layer\n",
    "    :param conv_ksize: kernal size 2-D Tuple for the convolutional layer\n",
    "    :param conv_strides: Stride 2-D Tuple for convolution\n",
    "    :param pool_ksize: kernal size 2-D Tuple for pool\n",
    "    :param pool_strides: Stride 2-D Tuple for pool\n",
    "    : return: A tensor that represents convolution and max pooling of x_tensor\n",
    "    \"\"\"\n",
    "    # TODO: Implement Function\n",
    "    print('conv2d x_tensor shape = ',x_tensor.shape)\n",
    "    print('conv2d conv_num_outputs = ',conv_num_outputs)\n",
    "    print('conv2dconv_ksize = ',conv_ksize)\n",
    "    print('conv2d conv_strides = ',conv_strides)\n",
    "    \n",
    "    padding = 'SAME'\n",
    "    s = x_tensor.get_shape().as_list() \n",
    "\n",
    "    weight = tf.Variable(tf.random_normal((conv_ksize[0],conv_ksize[1],s[3],conv_num_outputs)) * \n",
    "                         np.sqrt(2 /(conv_ksize[0]*conv_ksize[1]*s[3] )))\n",
    "#     bias = tf.Variable(tf.zeros(conv_num_outputs))\n",
    "    out = tf.nn.conv2d(x_tensor,weight,[1,conv_strides[0],conv_strides[1],1] ,padding)\n",
    "    \n",
    "    gamma = tf.Variable(tf.ones_like(out[1]))\n",
    "    beta = tf.Variable(tf.zeros_like(out[1]))\n",
    "    \n",
    "    pop_mean = tf.Variable(tf.zeros_like(out[1]),trainable=False)\n",
    "    pop_variance = tf.Variable(tf.ones_like(out[1]),trainable=False)\n",
    "    \n",
    "    epsilon = 1e-3\n",
    "    \n",
    "    def batch_norm_training():\n",
    "        batch_mean, batch_variance = tf.nn.moments(out,axes=[0])\n",
    "        decay = 0.99\n",
    "        train_mean = tf.assign(pop_mean,pop_mean * decay + batch_mean * (1 -decay))\n",
    "        train_variance = tf.assign(pop_variance,pop_variance * decay + batch_variance *(1-decay))\n",
    "        \n",
    "        with tf.control_dependencies([train_mean,train_variance]):\n",
    "            return tf.nn.batch_normalization(out,batch_mean,batch_variance,beta,gamma,epsilon)\n",
    "        \n",
    "        \n",
    "    \n",
    "    \n",
    "    \n",
    "    \n",
    "    def batch_norm_inference():\n",
    "         return tf.nn.batch_normalization(out,pop_mean,pop_variance,beta,gamma,epsilon)\n",
    "    \n",
    "    \n",
    "    \n",
    "    batch_normalized_output = tf.cond(is_training,batch_norm_training,batch_norm_inference)\n",
    "#     tf.nn.batch_normalization\n",
    "    \n",
    "  \n",
    "    \n",
    "    \n",
    "#     out = tf.nn.bias_add(out,bias)\n",
    "    out = tf.nn.relu(batch_normalized_output)\n",
    "    print('out shape = ',out.shape)\n",
    "     \n",
    "    return out "
   ]
  },
  {
   "cell_type": "code",
   "execution_count": 12,
   "metadata": {
    "collapsed": true
   },
   "outputs": [],
   "source": [
    "def maxpool_mine(input_tensor, pool_ksize, pool_strides):\n",
    "    \"\"\"\n",
    "    Apply convolution then max pooling to x_tensor\n",
    "    :param x_tensor: TensorFlow Tensor\n",
    "    :param conv_num_outputs: Number of outputs for the convolutional layer\n",
    "    :param conv_ksize: kernal size 2-D Tuple for the convolutional layer\n",
    "    :param conv_strides: Stride 2-D Tuple for convolution\n",
    "    :param pool_ksize: kernal size 2-D Tuple for pool\n",
    "    :param pool_strides: Stride 2-D Tuple for pool\n",
    "    : return: A tensor that represents convolution and max pooling of x_tensor\n",
    "    \"\"\"\n",
    "    # TODO: Implement Function\n",
    "    print('maxpool input shape = ',input_tensor.shape)\n",
    "    print('pool_ksize = ',pool_ksize)\n",
    "    print('pool_strides = ',pool_strides)\n",
    "    \n",
    "    padding = 'VALID'\n",
    "    out = tf.nn.max_pool(input_tensor,[1,pool_ksize[0],pool_ksize[1],1] , [1,pool_strides[0],pool_strides[1],1] ,padding)\n",
    "    print('out shape = ',out.shape)\n",
    "    \n",
    "    \n",
    "    return out "
   ]
  },
  {
   "cell_type": "code",
   "execution_count": 13,
   "metadata": {
    "collapsed": true
   },
   "outputs": [],
   "source": [
    "def conv2d_maxpool(x_tensor, conv_num_outputs, conv_ksize, conv_strides, pool_ksize, pool_strides,is_training):\n",
    "    \"\"\"\n",
    "    Apply convolution then max pooling to x_tensor\n",
    "    :param x_tensor: TensorFlow Tensor\n",
    "    :param conv_num_outputs: Number of outputs for the convolutional layer\n",
    "    :param conv_ksize: kernal size 2-D Tuple for the convolutional layer\n",
    "    :param conv_strides: Stride 2-D Tuple for convolution\n",
    "    :param pool_ksize: kernal size 2-D Tuple for pool\n",
    "    :param pool_strides: Stride 2-D Tuple for pool\n",
    "    : return: A tensor that represents convolution and max pooling of x_tensor\n",
    "    \"\"\"\n",
    "    # TODO: Implement Function\n",
    "    \n",
    "    \n",
    "    out = conv2d_mine(x_tensor, conv_num_outputs, conv_ksize, conv_strides,is_training)\n",
    "    out = conv2d_mine(out, conv_num_outputs, conv_ksize, conv_strides,is_training)\n",
    "    out = maxpool_mine(out,pool_ksize, pool_strides)\n",
    "   \n",
    "    return out \n",
    "\n",
    "\n",
    "# \"\"\"\n",
    "# DON'T MODIFY ANYTHING IN THIS CELL THAT IS BELOW THIS LINE\n",
    "# \"\"\"\n",
    "# tests.test_con_pool(conv2d_maxpool,0.5)"
   ]
  },
  {
   "cell_type": "code",
   "execution_count": 14,
   "metadata": {
    "collapsed": true
   },
   "outputs": [],
   "source": [
    "def conv2d_maxpool2(x_tensor, conv_num_outputs, conv_ksize, conv_strides, pool_ksize, pool_strides):\n",
    "    \"\"\"\n",
    "    Apply convolution then max pooling to x_tensor\n",
    "    :param x_tensor: TensorFlow Tensor\n",
    "    :param conv_num_outputs: Number of outputs for the convolutional layer\n",
    "    :param conv_ksize: kernal size 2-D Tuple for the convolutional layer\n",
    "    :param conv_strides: Stride 2-D Tuple for convolution\n",
    "    :param pool_ksize: kernal size 2-D Tuple for pool\n",
    "    :param pool_strides: Stride 2-D Tuple for pool\n",
    "    : return: A tensor that represents convolution and max pooling of x_tensor\n",
    "    \"\"\"\n",
    "    # TODO: Implement Function\n",
    "    print('x_tensor shape = ',x_tensor.shape)\n",
    "    print('conv_num_outputs = ',conv_num_outputs)\n",
    "    print('conv_ksize = ',conv_ksize)\n",
    "    print('conv_strides = ',conv_strides)\n",
    "    print('pool_ksize = ',pool_ksize)\n",
    "    print('pool_strides = ',pool_strides)\n",
    "    print('x_tensor shape  list = ',tf.shape(x_tensor)[3])\n",
    "    #weight = tf.Variable(tf.truncated_normal((conv_ksize[0],conv_ksize[1],x_tensor.shape[3].value,conv_num_outputs),stddev=0.1))\n",
    "    s = x_tensor.get_shape().as_list()\n",
    "    print('s = ',s)\n",
    "    \n",
    "    padding = 'SAME'\n",
    "        \n",
    "    weight1 = tf.Variable(tf.random_normal((conv_ksize[0],conv_ksize[1],s[3],conv_num_outputs)) * \n",
    "                         np.sqrt(2 /(conv_ksize[0]*conv_ksize[1]*s[3] )))\n",
    "    bias1 = tf.Variable(tf.zeros(conv_num_outputs))\n",
    "   \n",
    "    out1 = tf.nn.conv2d(x_tensor,weight1,[1,conv_strides[0],conv_strides[1],1] ,padding)\n",
    "    out1 = tf.nn.bias_add(out1,bias1)\n",
    "    out1 = tf.nn.relu(out1)\n",
    "    print('out1 shape = ',out1.shape)\n",
    "    \n",
    "    weight2 = tf.Variable(tf.random_normal((conv_ksize[0],conv_ksize[1],s[3],conv_num_outputs)) * \n",
    "                         np.sqrt(2 /(conv_ksize[0]*conv_ksize[1]*s[3] )))\n",
    "    bias2 = tf.Variable(tf.zeros(conv_num_outputs))\n",
    "   \n",
    "    out2 = tf.nn.conv2d(out1,weight2,[1,conv_strides[0],conv_strides[1],1] ,padding)\n",
    "    out2 = tf.nn.bias_add(out2,bias2)\n",
    "    out2 = tf.nn.relu(out2)\n",
    "    print('out2 shape = ',out2.shape)\n",
    "    out = tf.nn.max_pool(out2,[1,pool_ksize[0],pool_ksize[1],1] , [1,pool_strides[0],pool_strides[1],1] ,padding)\n",
    "    print('out shape = ',out.shape)\n",
    "    \n",
    "    \n",
    "    return out \n"
   ]
  },
  {
   "cell_type": "code",
   "execution_count": null,
   "metadata": {
    "collapsed": true
   },
   "outputs": [],
   "source": []
  },
  {
   "cell_type": "code",
   "execution_count": 15,
   "metadata": {},
   "outputs": [
    {
     "name": "stdout",
     "output_type": "stream",
     "text": [
      "x_tensor =  (?, 10, 30, 6)\n",
      "tf.shape(x_tensor) =  Tensor(\"strided_slice_1:0\", shape=(), dtype=int32)\n",
      "Tests Passed\n"
     ]
    }
   ],
   "source": [
    "def flatten(x_tensor):\n",
    "    \"\"\"\n",
    "    Flatten x_tensor to (Batch Size, Flattened Image Size)\n",
    "    : x_tensor: A tensor of size (Batch Size, ...), where ... are the image dimensions.\n",
    "    : return: A tensor of size (Batch Size, Flattened Image Size).\n",
    "    \"\"\"\n",
    "    # TODO: Implement Function\n",
    "    print('x_tensor = ' ,x_tensor.shape)\n",
    "    print('tf.shape(x_tensor) = ' ,tf.shape(x_tensor)[0])\n",
    "    \n",
    "#     tf.TensorShape([None, 1, 1, 64])\n",
    "# tf.shape(x_tensor)\n",
    "    s = x_tensor.get_shape().as_list()\n",
    "    return tf.reshape(tensor=x_tensor,shape=[tf.shape(x_tensor)[0],s[1] *s[2]*s[3] ])\n",
    "\n",
    "\n",
    "tests.test_flatten(flatten)"
   ]
  },
  {
   "cell_type": "code",
   "execution_count": 16,
   "metadata": {},
   "outputs": [
    {
     "name": "stdout",
     "output_type": "stream",
     "text": [
      "x_tensor =  [None, 128]\n",
      "out : 40\n",
      "Tests Passed\n"
     ]
    }
   ],
   "source": [
    "def fully_conn(x_tensor, num_outputs):\n",
    "    \"\"\"\n",
    "    Apply a fully connected layer to x_tensor using weight and bias\n",
    "    : x_tensor: A 2-D tensor where the first dimension is batch size.\n",
    "    : num_outputs: The number of output that the new tensor should be.\n",
    "    : return: A 2-D tensor where the second dimension is num_outputs.\n",
    "    \"\"\"\n",
    "    # TODO: Implement Function\n",
    "    x_shape = x_tensor.get_shape().as_list()\n",
    "    print('x_tensor = ' ,x_shape)\n",
    "    \n",
    "    print('out :',num_outputs)\n",
    "    #weight = tf.Variable(tf.truncated_normal((x_shape[1],num_outputs),stddev=0.1))\n",
    "    weight = tf.Variable(tf.random_normal(((x_shape[1],num_outputs))) * np.sqrt(2 /x_shape[1]))\n",
    "    bias = tf.Variable(tf.zeros(num_outputs))\n",
    "    output = tf.nn.bias_add(tf.matmul(x_tensor,weight),bias)\n",
    "    output = tf.nn.relu(output)\n",
    "    \n",
    "    return output\n",
    "\n",
    "\n",
    "\"\"\"\n",
    "DON'T MODIFY ANYTHING IN THIS CELL THAT IS BELOW THIS LINE\n",
    "\"\"\"\n",
    "tests.test_fully_conn(fully_conn)"
   ]
  },
  {
   "cell_type": "code",
   "execution_count": 17,
   "metadata": {},
   "outputs": [
    {
     "name": "stdout",
     "output_type": "stream",
     "text": [
      "x_tensor =  [None, 128]\n",
      "out : 40\n",
      "Tests Passed\n"
     ]
    }
   ],
   "source": [
    "def output(x_tensor, num_outputs):\n",
    "    \"\"\"\n",
    "    Apply a output layer to x_tensor using weight and bias\n",
    "    : x_tensor: A 2-D tensor where the first dimension is batch size.\n",
    "    : num_outputs: The number of output that the new tensor should be.\n",
    "    : return: A 2-D tensor where the second dimension is num_outputs.\n",
    "    \"\"\"\n",
    "    # TODO: Implement Function\n",
    "    x_shape = x_tensor.get_shape().as_list()\n",
    "    print('x_tensor = ' ,x_shape)\n",
    "    print('out :',num_outputs)\n",
    "    #weight = tf.Variable(tf.truncated_normal((x_shape[1],num_outputs),stddev=0.1))\n",
    "    weight = tf.Variable(tf.random_normal((x_shape[1],num_outputs)) * np.sqrt(2/ x_shape[1] ))\n",
    "    bias = tf.Variable(tf.zeros(num_outputs))\n",
    "    output = tf.nn.bias_add(tf.matmul(x_tensor,weight),bias)\n",
    "    return output\n",
    "\n",
    "\n",
    "\"\"\"\n",
    "DON'T MODIFY ANYTHING IN THIS CELL THAT IS BELOW THIS LINE\n",
    "\"\"\"\n",
    "tests.test_output(output)"
   ]
  },
  {
   "cell_type": "code",
   "execution_count": 18,
   "metadata": {},
   "outputs": [
    {
     "name": "stdout",
     "output_type": "stream",
     "text": [
      "(32, 32, 3)\n",
      "x_tensor =  [None, 32, 32, 3]\n",
      "keep_prob =  Tensor(\"keep_prob:0\", dtype=float32)\n",
      "conv2d x_tensor shape =  (?, 32, 32, 3)\n",
      "conv2d conv_num_outputs =  32\n",
      "conv2dconv_ksize =  (3, 3)\n",
      "conv2d conv_strides =  (1, 1)\n",
      "out shape =  (?, 32, 32, 32)\n",
      "conv2d x_tensor shape =  (?, 32, 32, 32)\n",
      "conv2d conv_num_outputs =  32\n",
      "conv2dconv_ksize =  (3, 3)\n",
      "conv2d conv_strides =  (1, 1)\n",
      "out shape =  (?, 32, 32, 32)\n",
      "maxpool input shape =  (?, 32, 32, 32)\n",
      "pool_ksize =  (2, 2)\n",
      "pool_strides =  (2, 2)\n",
      "out shape =  (?, 16, 16, 32)\n",
      "conv_net conv1.shape =  (?, 16, 16, 32)\n",
      "conv2d x_tensor shape =  (?, 16, 16, 32)\n",
      "conv2d conv_num_outputs =  64\n",
      "conv2dconv_ksize =  (3, 3)\n",
      "conv2d conv_strides =  (1, 1)\n",
      "out shape =  (?, 16, 16, 64)\n",
      "conv2d x_tensor shape =  (?, 16, 16, 64)\n",
      "conv2d conv_num_outputs =  64\n",
      "conv2dconv_ksize =  (3, 3)\n",
      "conv2d conv_strides =  (1, 1)\n",
      "out shape =  (?, 16, 16, 64)\n",
      "maxpool input shape =  (?, 16, 16, 64)\n",
      "pool_ksize =  (2, 2)\n",
      "pool_strides =  (2, 2)\n",
      "out shape =  (?, 8, 8, 64)\n",
      "conv2d x_tensor shape =  (?, 8, 8, 64)\n",
      "conv2d conv_num_outputs =  128\n",
      "conv2dconv_ksize =  (3, 3)\n",
      "conv2d conv_strides =  (1, 1)\n",
      "out shape =  (?, 8, 8, 128)\n",
      "conv2d x_tensor shape =  (?, 8, 8, 128)\n",
      "conv2d conv_num_outputs =  128\n",
      "conv2dconv_ksize =  (3, 3)\n",
      "conv2d conv_strides =  (1, 1)\n",
      "out shape =  (?, 8, 8, 128)\n",
      "maxpool input shape =  (?, 8, 8, 128)\n",
      "pool_ksize =  (2, 2)\n",
      "pool_strides =  (2, 2)\n",
      "out shape =  (?, 4, 4, 128)\n",
      "conv_net conv3.shape =  (?, 4, 4, 128)\n",
      "x_tensor =  (?, 4, 4, 128)\n",
      "tf.shape(x_tensor) =  Tensor(\"strided_slice_24:0\", shape=(), dtype=int32)\n",
      "x_tensor =  [None, 2048]\n",
      "out : 512\n",
      "x_tensor =  [None, 512]\n",
      "out : 256\n",
      "x_tensor =  [None, 256]\n",
      "out : 10\n"
     ]
    }
   ],
   "source": [
    "def conv_net(x, keep_prob,is_training):\n",
    "    \"\"\"\n",
    "    Create a convolutional neural network model\n",
    "    : x: Placeholder tensor that holds image data.\n",
    "    : keep_prob: Placeholder tensor that hold dropout keep probability.\n",
    "    : return: Tensor that represents logits\n",
    "    \"\"\"\n",
    "    x_shape = x.get_shape().as_list()\n",
    "    print('x_tensor = ' ,x_shape)\n",
    "    print('keep_prob = ' ,keep_prob)\n",
    "    # TODO: Apply 1, 2, or 3 Convolution and Max Pool layers\n",
    "    #    Play around with different number of outputs, kernel size and stride\n",
    "    # Function Definition from Above:\n",
    "    #    conv2d_maxpool(x_tensor, conv_num_outputs, conv_ksize, conv_strides, pool_ksize, pool_strides)\n",
    "    #c1 32 * 32 * 3 --> 16*16*32\n",
    "    conv1 = conv2d_maxpool(x,32,(3,3),(1,1),(2,2),(2,2),is_training)\n",
    "    print('conv_net conv1.shape = ' ,conv1.shape)\n",
    "    \n",
    "    #c1  16*16*32--> 8*8*64\n",
    "    conv2 =conv2d_maxpool(conv1,64,(3,3),(1,1),(2,2),(2,2),is_training)\n",
    "#     print('conv_net conv2.shape = {}'.format(ape)\n",
    "    #c1  8*8*64--> 4*4*128\n",
    "    conv3 =conv2d_maxpool(conv2,128,(3,3),(1,1),(2,2),(2,2),is_training)\n",
    "    print('conv_net conv3.shape = ' ,conv3.shape)\n",
    "    \n",
    "    #c1  4*4*128-> 2*2*256\n",
    "    #conv4 =conv2d_maxpool(conv3,256,(3,3),(1,1),(2,2),(2,2))\n",
    "\n",
    "    # TODO: Apply a Flatten Layer\n",
    "    # Function Definition from Above:\n",
    "    #   flatten(x_tensor)\n",
    "    fc1 = flatten(conv3)\n",
    "    \n",
    "\n",
    "    # TODO: Apply 1, 2, or 3 Fully Connected Layers\n",
    "    #    Play around with different number of outputs\n",
    "    # Function Definition from Above:\n",
    "    #   fully_conn(x_tensor, num_outputs)\n",
    "    fc1 = fully_conn(fc1,512)\n",
    "    tf.nn.dropout(fc1,keep_prob)\n",
    "    fc2 = fully_conn(fc1,256)\n",
    "    tf.nn.dropout(fc2,keep_prob)\n",
    "    \n",
    "    # TODO: Apply an Output Layer\n",
    "    #    Set this to the number of classes\n",
    "    # Function Definition from Above:\n",
    "    #   output(x_tensor, num_outputs)\n",
    "    \n",
    "    \n",
    "    # TODO: return output\n",
    "    return output(fc2,10)\n",
    "\n",
    "\n",
    "\"\"\"\n",
    "DON'T MODIFY ANYTHING IN THIS CELL THAT IS BELOW THIS LINE\n",
    "\"\"\"\n",
    "\n",
    "##############################\n",
    "## Build the Neural Network ##\n",
    "##############################\n",
    "\n",
    "# Remove previous weights, bias, inputs, etc..\n",
    "tf.reset_default_graph()\n",
    "\n",
    "# Inputs\n",
    "x = neural_net_image_input((32, 32, 3))\n",
    "y = neural_net_label_input(10)\n",
    "keep_prob = neural_net_keep_prob_input()\n",
    "reg_loss = neural_net_regulation_scale()\n",
    "is_training = neural_new_is_training();\n",
    "\n",
    "# Model\n",
    "logits = conv_net(x, keep_prob,is_training)\n",
    "\n",
    "# Name logits Tensor, so that is can be loaded from disk after training\n",
    "logits = tf.identity(logits, name='logits')\n",
    "\n",
    "weight_list = tf.get_collection('weight')\n",
    "\n",
    "regulation_cost = 0;\n",
    "\n",
    "for i in range(len(weight_list)):\n",
    "    regulation_cost += 5e-4 * tf.reduce_sum( tf.pow(weight_list[i],2))\n",
    "    \n",
    "\n",
    "# regulation_cost = 5e-4 * tf.reduce_sum( tf.pow(weight_list, 2) ) /2\n",
    "# Loss and Optimizer\n",
    "# + regulation_cost\n",
    "cost = tf.reduce_mean(tf.nn.softmax_cross_entropy_with_logits(logits=logits, labels=y)) \n",
    "# tf.add_to_collection(\"losses\",cost)\n",
    "# cost = tf.add_n(tf.get_collection(\"losses\"))\n",
    "\n",
    "# cost += regulation_cost\n",
    "global_step = tf.Variable(0,trainable=False)\n",
    "initial_learning_rate = 0.001\n",
    "learning_rate = tf.train.exponential_decay(initial_learning_rate,global_step=global_step,decay_steps=200,decay_rate=0.95,staircase=True)\n",
    "optimizer = tf.train.AdamOptimizer(learning_rate).minimize(cost, global_step=global_step)\n",
    "\n",
    "\n",
    "\n",
    "# Accuracy\n",
    "correct_pred = tf.equal(tf.argmax(logits, 1), tf.argmax(y, 1))\n",
    "accuracy = tf.reduce_mean(tf.cast(correct_pred, tf.float32), name='accuracy')\n",
    "\n",
    "# tests.test_conv_net(conv_net)"
   ]
  },
  {
   "cell_type": "code",
   "execution_count": 19,
   "metadata": {},
   "outputs": [
    {
     "name": "stdout",
     "output_type": "stream",
     "text": [
      "Tests Passed\n"
     ]
    }
   ],
   "source": [
    "def train_neural_network(session, optimizer, keep_probability, feature_batch, label_batch):\n",
    "    \"\"\"\n",
    "    Optimize the session on a batch of images and labels\n",
    "    : session: Current TensorFlow session\n",
    "    : optimizer: TensorFlow optimizer function\n",
    "    : keep_probability: keep probability\n",
    "    : feature_batch: Batch of Numpy image data\n",
    "    : label_batch: Batch of Numpy label data\n",
    "    \"\"\"\n",
    "    # TODO: Implement Function\n",
    "    session.run(optimizer,feed_dict={x:feature_batch,y:label_batch,keep_prob:keep_probability,is_training:True})\n",
    "    \n",
    "\n",
    "\n",
    "# \"\"\"\n",
    "# DON'T MODIFY ANYTHING IN THIS CELL THAT IS BELOW THIS LINE\n",
    "# \"\"\"\n",
    "tests.test_train_nn(train_neural_network)"
   ]
  },
  {
   "cell_type": "code",
   "execution_count": 20,
   "metadata": {
    "collapsed": true
   },
   "outputs": [],
   "source": [
    "def print_stats(session, feature_batch, label_batch, cost, accuracy):\n",
    "    \"\"\"\n",
    "    Print information about loss and validation accuracy\n",
    "    : session: Current TensorFlow session\n",
    "    : feature_batch: Batch of Numpy image data\n",
    "    : label_batch: Batch of Numpy label data\n",
    "    : cost: TensorFlow cost function\n",
    "    : accuracy: TensorFlow accuracy function\n",
    "    \"\"\"\n",
    "    # TODO: Implement Function\n",
    "    loss = session.run(cost,feed_dict={x:feature_batch,y:label_batch,keep_prob:1.0,is_training:True})\n",
    "    valid_acc = session.run(accuracy,feed_dict={x:valid_features,y: valid_labels,keep_prob:1.0,is_training:False})\n",
    "    print('Loss: {:>10.4f} Validation Accuracy: {:.6f}'.format(loss,valid_acc))\n",
    "    "
   ]
  },
  {
   "cell_type": "code",
   "execution_count": 21,
   "metadata": {
    "collapsed": true
   },
   "outputs": [],
   "source": [
    "# TODO: Tune Parameters\n",
    "epochs = 15\n",
    "batch_size = 64\n",
    "keep_probability = 0.5\n",
    "reguloss = 5e-4\n"
   ]
  },
  {
   "cell_type": "code",
   "execution_count": 22,
   "metadata": {},
   "outputs": [
    {
     "name": "stdout",
     "output_type": "stream",
     "text": [
      "Checking the Training on a Single Batch...\n",
      "Epoch  1, CIFAR-10 Batch 1:  Loss:     1.7824 Validation Accuracy: 0.179000\n",
      "Epoch  2, CIFAR-10 Batch 1:  Loss:     1.2696 Validation Accuracy: 0.399200\n",
      "Epoch  3, CIFAR-10 Batch 1:  Loss:     0.9555 Validation Accuracy: 0.485800\n"
     ]
    },
    {
     "ename": "KeyboardInterrupt",
     "evalue": "",
     "output_type": "error",
     "traceback": [
      "\u001b[1;31m---------------------------------------------------------------------------\u001b[0m",
      "\u001b[1;31mKeyboardInterrupt\u001b[0m                         Traceback (most recent call last)",
      "\u001b[1;32m<ipython-input-22-0ebd1bbc35ad>\u001b[0m in \u001b[0;36m<module>\u001b[1;34m()\u001b[0m\n\u001b[0;32m     11\u001b[0m         \u001b[0mbatch_i\u001b[0m \u001b[1;33m=\u001b[0m \u001b[1;36m1\u001b[0m\u001b[1;33m\u001b[0m\u001b[0m\n\u001b[0;32m     12\u001b[0m         \u001b[1;32mfor\u001b[0m \u001b[0mbatch_features\u001b[0m\u001b[1;33m,\u001b[0m \u001b[0mbatch_labels\u001b[0m \u001b[1;32min\u001b[0m \u001b[0mhelper\u001b[0m\u001b[1;33m.\u001b[0m\u001b[0mload_preprocess_training_batch\u001b[0m\u001b[1;33m(\u001b[0m\u001b[0mbatch_i\u001b[0m\u001b[1;33m,\u001b[0m \u001b[0mbatch_size\u001b[0m\u001b[1;33m)\u001b[0m\u001b[1;33m:\u001b[0m\u001b[1;33m\u001b[0m\u001b[0m\n\u001b[1;32m---> 13\u001b[1;33m             \u001b[0mtrain_neural_network\u001b[0m\u001b[1;33m(\u001b[0m\u001b[0msess\u001b[0m\u001b[1;33m,\u001b[0m \u001b[0moptimizer\u001b[0m\u001b[1;33m,\u001b[0m \u001b[0mkeep_probability\u001b[0m\u001b[1;33m,\u001b[0m \u001b[0mbatch_features\u001b[0m\u001b[1;33m,\u001b[0m \u001b[0mbatch_labels\u001b[0m\u001b[1;33m)\u001b[0m\u001b[1;33m\u001b[0m\u001b[0m\n\u001b[0m\u001b[0;32m     14\u001b[0m         \u001b[0mprint\u001b[0m\u001b[1;33m(\u001b[0m\u001b[1;34m'Epoch {:>2}, CIFAR-10 Batch {}:  '\u001b[0m\u001b[1;33m.\u001b[0m\u001b[0mformat\u001b[0m\u001b[1;33m(\u001b[0m\u001b[0mepoch\u001b[0m \u001b[1;33m+\u001b[0m \u001b[1;36m1\u001b[0m\u001b[1;33m,\u001b[0m \u001b[0mbatch_i\u001b[0m\u001b[1;33m)\u001b[0m\u001b[1;33m,\u001b[0m \u001b[0mend\u001b[0m\u001b[1;33m=\u001b[0m\u001b[1;34m''\u001b[0m\u001b[1;33m)\u001b[0m\u001b[1;33m\u001b[0m\u001b[0m\n\u001b[0;32m     15\u001b[0m         \u001b[0mprint_stats\u001b[0m\u001b[1;33m(\u001b[0m\u001b[0msess\u001b[0m\u001b[1;33m,\u001b[0m \u001b[0mbatch_features\u001b[0m\u001b[1;33m,\u001b[0m \u001b[0mbatch_labels\u001b[0m\u001b[1;33m,\u001b[0m \u001b[0mcost\u001b[0m\u001b[1;33m,\u001b[0m \u001b[0maccuracy\u001b[0m\u001b[1;33m)\u001b[0m\u001b[1;33m\u001b[0m\u001b[0m\n",
      "\u001b[1;32m<ipython-input-19-dec922334858>\u001b[0m in \u001b[0;36mtrain_neural_network\u001b[1;34m(session, optimizer, keep_probability, feature_batch, label_batch)\u001b[0m\n\u001b[0;32m      9\u001b[0m     \"\"\"\n\u001b[0;32m     10\u001b[0m     \u001b[1;31m# TODO: Implement Function\u001b[0m\u001b[1;33m\u001b[0m\u001b[1;33m\u001b[0m\u001b[0m\n\u001b[1;32m---> 11\u001b[1;33m     \u001b[0msession\u001b[0m\u001b[1;33m.\u001b[0m\u001b[0mrun\u001b[0m\u001b[1;33m(\u001b[0m\u001b[0moptimizer\u001b[0m\u001b[1;33m,\u001b[0m\u001b[0mfeed_dict\u001b[0m\u001b[1;33m=\u001b[0m\u001b[1;33m{\u001b[0m\u001b[0mx\u001b[0m\u001b[1;33m:\u001b[0m\u001b[0mfeature_batch\u001b[0m\u001b[1;33m,\u001b[0m\u001b[0my\u001b[0m\u001b[1;33m:\u001b[0m\u001b[0mlabel_batch\u001b[0m\u001b[1;33m,\u001b[0m\u001b[0mkeep_prob\u001b[0m\u001b[1;33m:\u001b[0m\u001b[0mkeep_probability\u001b[0m\u001b[1;33m,\u001b[0m\u001b[0mis_training\u001b[0m\u001b[1;33m:\u001b[0m\u001b[1;32mTrue\u001b[0m\u001b[1;33m}\u001b[0m\u001b[1;33m)\u001b[0m\u001b[1;33m\u001b[0m\u001b[0m\n\u001b[0m\u001b[0;32m     12\u001b[0m \u001b[1;33m\u001b[0m\u001b[0m\n\u001b[0;32m     13\u001b[0m \u001b[1;33m\u001b[0m\u001b[0m\n",
      "\u001b[1;32mC:\\ProgramData\\Anaconda3\\envs\\tensorflow\\lib\\site-packages\\tensorflow\\python\\client\\session.py\u001b[0m in \u001b[0;36mrun\u001b[1;34m(self, fetches, feed_dict, options, run_metadata)\u001b[0m\n\u001b[0;32m    787\u001b[0m     \u001b[1;32mtry\u001b[0m\u001b[1;33m:\u001b[0m\u001b[1;33m\u001b[0m\u001b[0m\n\u001b[0;32m    788\u001b[0m       result = self._run(None, fetches, feed_dict, options_ptr,\n\u001b[1;32m--> 789\u001b[1;33m                          run_metadata_ptr)\n\u001b[0m\u001b[0;32m    790\u001b[0m       \u001b[1;32mif\u001b[0m \u001b[0mrun_metadata\u001b[0m\u001b[1;33m:\u001b[0m\u001b[1;33m\u001b[0m\u001b[0m\n\u001b[0;32m    791\u001b[0m         \u001b[0mproto_data\u001b[0m \u001b[1;33m=\u001b[0m \u001b[0mtf_session\u001b[0m\u001b[1;33m.\u001b[0m\u001b[0mTF_GetBuffer\u001b[0m\u001b[1;33m(\u001b[0m\u001b[0mrun_metadata_ptr\u001b[0m\u001b[1;33m)\u001b[0m\u001b[1;33m\u001b[0m\u001b[0m\n",
      "\u001b[1;32mC:\\ProgramData\\Anaconda3\\envs\\tensorflow\\lib\\site-packages\\tensorflow\\python\\client\\session.py\u001b[0m in \u001b[0;36m_run\u001b[1;34m(self, handle, fetches, feed_dict, options, run_metadata)\u001b[0m\n\u001b[0;32m    995\u001b[0m     \u001b[1;32mif\u001b[0m \u001b[0mfinal_fetches\u001b[0m \u001b[1;32mor\u001b[0m \u001b[0mfinal_targets\u001b[0m\u001b[1;33m:\u001b[0m\u001b[1;33m\u001b[0m\u001b[0m\n\u001b[0;32m    996\u001b[0m       results = self._do_run(handle, final_targets, final_fetches,\n\u001b[1;32m--> 997\u001b[1;33m                              feed_dict_string, options, run_metadata)\n\u001b[0m\u001b[0;32m    998\u001b[0m     \u001b[1;32melse\u001b[0m\u001b[1;33m:\u001b[0m\u001b[1;33m\u001b[0m\u001b[0m\n\u001b[0;32m    999\u001b[0m       \u001b[0mresults\u001b[0m \u001b[1;33m=\u001b[0m \u001b[1;33m[\u001b[0m\u001b[1;33m]\u001b[0m\u001b[1;33m\u001b[0m\u001b[0m\n",
      "\u001b[1;32mC:\\ProgramData\\Anaconda3\\envs\\tensorflow\\lib\\site-packages\\tensorflow\\python\\client\\session.py\u001b[0m in \u001b[0;36m_do_run\u001b[1;34m(self, handle, target_list, fetch_list, feed_dict, options, run_metadata)\u001b[0m\n\u001b[0;32m   1130\u001b[0m     \u001b[1;32mif\u001b[0m \u001b[0mhandle\u001b[0m \u001b[1;32mis\u001b[0m \u001b[1;32mNone\u001b[0m\u001b[1;33m:\u001b[0m\u001b[1;33m\u001b[0m\u001b[0m\n\u001b[0;32m   1131\u001b[0m       return self._do_call(_run_fn, self._session, feed_dict, fetch_list,\n\u001b[1;32m-> 1132\u001b[1;33m                            target_list, options, run_metadata)\n\u001b[0m\u001b[0;32m   1133\u001b[0m     \u001b[1;32melse\u001b[0m\u001b[1;33m:\u001b[0m\u001b[1;33m\u001b[0m\u001b[0m\n\u001b[0;32m   1134\u001b[0m       return self._do_call(_prun_fn, self._session, handle, feed_dict,\n",
      "\u001b[1;32mC:\\ProgramData\\Anaconda3\\envs\\tensorflow\\lib\\site-packages\\tensorflow\\python\\client\\session.py\u001b[0m in \u001b[0;36m_do_call\u001b[1;34m(self, fn, *args)\u001b[0m\n\u001b[0;32m   1137\u001b[0m   \u001b[1;32mdef\u001b[0m \u001b[0m_do_call\u001b[0m\u001b[1;33m(\u001b[0m\u001b[0mself\u001b[0m\u001b[1;33m,\u001b[0m \u001b[0mfn\u001b[0m\u001b[1;33m,\u001b[0m \u001b[1;33m*\u001b[0m\u001b[0margs\u001b[0m\u001b[1;33m)\u001b[0m\u001b[1;33m:\u001b[0m\u001b[1;33m\u001b[0m\u001b[0m\n\u001b[0;32m   1138\u001b[0m     \u001b[1;32mtry\u001b[0m\u001b[1;33m:\u001b[0m\u001b[1;33m\u001b[0m\u001b[0m\n\u001b[1;32m-> 1139\u001b[1;33m       \u001b[1;32mreturn\u001b[0m \u001b[0mfn\u001b[0m\u001b[1;33m(\u001b[0m\u001b[1;33m*\u001b[0m\u001b[0margs\u001b[0m\u001b[1;33m)\u001b[0m\u001b[1;33m\u001b[0m\u001b[0m\n\u001b[0m\u001b[0;32m   1140\u001b[0m     \u001b[1;32mexcept\u001b[0m \u001b[0merrors\u001b[0m\u001b[1;33m.\u001b[0m\u001b[0mOpError\u001b[0m \u001b[1;32mas\u001b[0m \u001b[0me\u001b[0m\u001b[1;33m:\u001b[0m\u001b[1;33m\u001b[0m\u001b[0m\n\u001b[0;32m   1141\u001b[0m       \u001b[0mmessage\u001b[0m \u001b[1;33m=\u001b[0m \u001b[0mcompat\u001b[0m\u001b[1;33m.\u001b[0m\u001b[0mas_text\u001b[0m\u001b[1;33m(\u001b[0m\u001b[0me\u001b[0m\u001b[1;33m.\u001b[0m\u001b[0mmessage\u001b[0m\u001b[1;33m)\u001b[0m\u001b[1;33m\u001b[0m\u001b[0m\n",
      "\u001b[1;32mC:\\ProgramData\\Anaconda3\\envs\\tensorflow\\lib\\site-packages\\tensorflow\\python\\client\\session.py\u001b[0m in \u001b[0;36m_run_fn\u001b[1;34m(session, feed_dict, fetch_list, target_list, options, run_metadata)\u001b[0m\n\u001b[0;32m   1119\u001b[0m         return tf_session.TF_Run(session, options,\n\u001b[0;32m   1120\u001b[0m                                  \u001b[0mfeed_dict\u001b[0m\u001b[1;33m,\u001b[0m \u001b[0mfetch_list\u001b[0m\u001b[1;33m,\u001b[0m \u001b[0mtarget_list\u001b[0m\u001b[1;33m,\u001b[0m\u001b[1;33m\u001b[0m\u001b[0m\n\u001b[1;32m-> 1121\u001b[1;33m                                  status, run_metadata)\n\u001b[0m\u001b[0;32m   1122\u001b[0m \u001b[1;33m\u001b[0m\u001b[0m\n\u001b[0;32m   1123\u001b[0m     \u001b[1;32mdef\u001b[0m \u001b[0m_prun_fn\u001b[0m\u001b[1;33m(\u001b[0m\u001b[0msession\u001b[0m\u001b[1;33m,\u001b[0m \u001b[0mhandle\u001b[0m\u001b[1;33m,\u001b[0m \u001b[0mfeed_dict\u001b[0m\u001b[1;33m,\u001b[0m \u001b[0mfetch_list\u001b[0m\u001b[1;33m)\u001b[0m\u001b[1;33m:\u001b[0m\u001b[1;33m\u001b[0m\u001b[0m\n",
      "\u001b[1;31mKeyboardInterrupt\u001b[0m: "
     ]
    }
   ],
   "source": [
    "\"\"\"\n",
    "DON'T MODIFY ANYTHING IN THIS CELL\n",
    "\"\"\"\n",
    "print('Checking the Training on a Single Batch...')\n",
    "with tf.Session() as sess:\n",
    "    # Initializing the variables\n",
    "    sess.run(tf.global_variables_initializer())\n",
    "    \n",
    "    # Training cycle\n",
    "    for epoch in range(epochs):\n",
    "        batch_i = 1\n",
    "        for batch_features, batch_labels in helper.load_preprocess_training_batch(batch_i, batch_size):\n",
    "            train_neural_network(sess, optimizer, keep_probability, batch_features, batch_labels)\n",
    "        print('Epoch {:>2}, CIFAR-10 Batch {}:  '.format(epoch + 1, batch_i), end='')\n",
    "        print_stats(sess, batch_features, batch_labels, cost, accuracy)"
   ]
  },
  {
   "cell_type": "code",
   "execution_count": 29,
   "metadata": {
    "scrolled": false
   },
   "outputs": [
    {
     "name": "stdout",
     "output_type": "stream",
     "text": [
      "Training...\n",
      "Epoch  1, CIFAR-10 Batch 1:  Loss:     2.1919 Validation Accuracy: 0.272200\n",
      "Epoch  1, CIFAR-10 Batch 2:  Loss:     1.5958 Validation Accuracy: 0.374800\n",
      "Epoch  1, CIFAR-10 Batch 3:  Loss:     1.3169 Validation Accuracy: 0.400600\n",
      "Epoch  1, CIFAR-10 Batch 4:  Loss:     1.4336 Validation Accuracy: 0.430800\n",
      "Epoch  1, CIFAR-10 Batch 5:  Loss:     1.4127 Validation Accuracy: 0.486200\n",
      "Epoch  2, CIFAR-10 Batch 1:  Loss:     1.3744 Validation Accuracy: 0.501800\n",
      "Epoch  2, CIFAR-10 Batch 2:  Loss:     1.1652 Validation Accuracy: 0.543000\n",
      "Epoch  2, CIFAR-10 Batch 3:  Loss:     0.8824 Validation Accuracy: 0.554000\n",
      "Epoch  2, CIFAR-10 Batch 4:  Loss:     1.0318 Validation Accuracy: 0.557200\n",
      "Epoch  2, CIFAR-10 Batch 5:  Loss:     0.8581 Validation Accuracy: 0.595000\n",
      "Epoch  3, CIFAR-10 Batch 1:  Loss:     0.8684 Validation Accuracy: 0.559000\n",
      "Epoch  3, CIFAR-10 Batch 2:  Loss:     0.6391 Validation Accuracy: 0.603800\n",
      "Epoch  3, CIFAR-10 Batch 3:  Loss:     0.5146 Validation Accuracy: 0.590000\n",
      "Epoch  3, CIFAR-10 Batch 4:  Loss:     0.6251 Validation Accuracy: 0.638200\n",
      "Epoch  3, CIFAR-10 Batch 5:  Loss:     0.4612 Validation Accuracy: 0.647200\n",
      "Epoch  4, CIFAR-10 Batch 1:  Loss:     0.4870 Validation Accuracy: 0.619200\n",
      "Epoch  4, CIFAR-10 Batch 2:  Loss:     0.4042 Validation Accuracy: 0.604200\n",
      "Epoch  4, CIFAR-10 Batch 3:  Loss:     0.2937 Validation Accuracy: 0.626200\n",
      "Epoch  4, CIFAR-10 Batch 4:  Loss:     0.3448 Validation Accuracy: 0.646200\n",
      "Epoch  4, CIFAR-10 Batch 5:  Loss:     0.2199 Validation Accuracy: 0.678600\n",
      "Epoch  5, CIFAR-10 Batch 1:  Loss:     0.2876 Validation Accuracy: 0.650200\n",
      "Epoch  5, CIFAR-10 Batch 2:  Loss:     0.1916 Validation Accuracy: 0.670800\n",
      "Epoch  5, CIFAR-10 Batch 3:  Loss:     0.1371 Validation Accuracy: 0.672200\n",
      "Epoch  5, CIFAR-10 Batch 4:  Loss:     0.1906 Validation Accuracy: 0.685000\n",
      "Epoch  5, CIFAR-10 Batch 5:  Loss:     0.1363 Validation Accuracy: 0.662400\n",
      "Epoch  6, CIFAR-10 Batch 1:  Loss:     0.1389 Validation Accuracy: 0.657200\n",
      "Epoch  6, CIFAR-10 Batch 2:  Loss:     0.1220 Validation Accuracy: 0.687200\n",
      "Epoch  6, CIFAR-10 Batch 3:  Loss:     0.0786 Validation Accuracy: 0.686200\n",
      "Epoch  6, CIFAR-10 Batch 4:  Loss:     0.0944 Validation Accuracy: 0.682800\n",
      "Epoch  6, CIFAR-10 Batch 5:  Loss:     0.0758 Validation Accuracy: 0.681000\n",
      "Epoch  7, CIFAR-10 Batch 1:  Loss:     0.0983 Validation Accuracy: 0.673200\n",
      "Epoch  7, CIFAR-10 Batch 2:  Loss:     0.0746 Validation Accuracy: 0.701200\n",
      "Epoch  7, CIFAR-10 Batch 3:  Loss:     0.0560 Validation Accuracy: 0.697600\n",
      "Epoch  7, CIFAR-10 Batch 4:  Loss:     0.0582 Validation Accuracy: 0.685800\n",
      "Epoch  7, CIFAR-10 Batch 5:  Loss:     0.0555 Validation Accuracy: 0.674800\n",
      "Epoch  8, CIFAR-10 Batch 1:  Loss:     0.0970 Validation Accuracy: 0.675600\n",
      "Epoch  8, CIFAR-10 Batch 2:  Loss:     0.0496 Validation Accuracy: 0.698800\n",
      "Epoch  8, CIFAR-10 Batch 3:  Loss:     0.0986 Validation Accuracy: 0.661600\n",
      "Epoch  8, CIFAR-10 Batch 4:  Loss:     0.0346 Validation Accuracy: 0.705200\n",
      "Epoch  8, CIFAR-10 Batch 5:  Loss:     0.0433 Validation Accuracy: 0.689400\n",
      "Epoch  9, CIFAR-10 Batch 1:  Loss:     0.0419 Validation Accuracy: 0.688400\n",
      "Epoch  9, CIFAR-10 Batch 2:  Loss:     0.0366 Validation Accuracy: 0.702200\n",
      "Epoch  9, CIFAR-10 Batch 3:  Loss:     0.0353 Validation Accuracy: 0.672200\n",
      "Epoch  9, CIFAR-10 Batch 4:  Loss:     0.0251 Validation Accuracy: 0.706600\n",
      "Epoch  9, CIFAR-10 Batch 5:  Loss:     0.0240 Validation Accuracy: 0.688400\n",
      "Epoch 10, CIFAR-10 Batch 1:  Loss:     0.0332 Validation Accuracy: 0.707400\n",
      "Epoch 10, CIFAR-10 Batch 2:  Loss:     0.0211 Validation Accuracy: 0.702200\n",
      "Epoch 10, CIFAR-10 Batch 3:  Loss:     0.0227 Validation Accuracy: 0.696000\n",
      "Epoch 10, CIFAR-10 Batch 4:  Loss:     0.0316 Validation Accuracy: 0.696800\n",
      "Epoch 10, CIFAR-10 Batch 5:  Loss:     0.0192 Validation Accuracy: 0.690800\n",
      "Epoch 11, CIFAR-10 Batch 1:  Loss:     0.0230 Validation Accuracy: 0.694200\n",
      "Epoch 11, CIFAR-10 Batch 2:  Loss:     0.0189 Validation Accuracy: 0.686400\n",
      "Epoch 11, CIFAR-10 Batch 3:  Loss:     0.0406 Validation Accuracy: 0.685200\n",
      "Epoch 11, CIFAR-10 Batch 4:  Loss:     0.0190 Validation Accuracy: 0.677600\n",
      "Epoch 11, CIFAR-10 Batch 5:  Loss:     0.0156 Validation Accuracy: 0.706800\n",
      "Epoch 12, CIFAR-10 Batch 1:  Loss:     0.0222 Validation Accuracy: 0.691000\n",
      "Epoch 12, CIFAR-10 Batch 2:  Loss:     0.0127 Validation Accuracy: 0.696000\n",
      "Epoch 12, CIFAR-10 Batch 3:  Loss:     0.0101 Validation Accuracy: 0.694000\n",
      "Epoch 12, CIFAR-10 Batch 4:  Loss:     0.0048 Validation Accuracy: 0.704600\n",
      "Epoch 12, CIFAR-10 Batch 5:  Loss:     0.0145 Validation Accuracy: 0.698600\n",
      "Epoch 13, CIFAR-10 Batch 1:  Loss:     0.0107 Validation Accuracy: 0.707400\n",
      "Epoch 13, CIFAR-10 Batch 2:  Loss:     0.0037 Validation Accuracy: 0.695800\n",
      "Epoch 13, CIFAR-10 Batch 3:  Loss:     0.0130 Validation Accuracy: 0.689000\n",
      "Epoch 13, CIFAR-10 Batch 4:  Loss:     0.0097 Validation Accuracy: 0.705200\n",
      "Epoch 13, CIFAR-10 Batch 5:  Loss:     0.0080 Validation Accuracy: 0.672400\n",
      "Epoch 14, CIFAR-10 Batch 1:  Loss:     0.0109 Validation Accuracy: 0.707000\n",
      "Epoch 14, CIFAR-10 Batch 2:  Loss:     0.0038 Validation Accuracy: 0.686000\n",
      "Epoch 14, CIFAR-10 Batch 3:  Loss:     0.0086 Validation Accuracy: 0.700600\n",
      "Epoch 14, CIFAR-10 Batch 4:  Loss:     0.0062 Validation Accuracy: 0.703800\n",
      "Epoch 14, CIFAR-10 Batch 5:  Loss:     0.0054 Validation Accuracy: 0.676200\n",
      "Epoch 15, CIFAR-10 Batch 1:  Loss:     0.0069 Validation Accuracy: 0.699600\n",
      "Epoch 15, CIFAR-10 Batch 2:  Loss:     0.0042 Validation Accuracy: 0.716600\n",
      "Epoch 15, CIFAR-10 Batch 3:  Loss:     0.0050 Validation Accuracy: 0.706400\n",
      "Epoch 15, CIFAR-10 Batch 4:  Loss:     0.0050 Validation Accuracy: 0.722800\n",
      "Epoch 15, CIFAR-10 Batch 5:  Loss:     0.0076 Validation Accuracy: 0.679800\n",
      "Epoch 16, CIFAR-10 Batch 1:  Loss:     0.0055 Validation Accuracy: 0.708600\n",
      "Epoch 16, CIFAR-10 Batch 2:  Loss:     0.0039 Validation Accuracy: 0.692000\n",
      "Epoch 16, CIFAR-10 Batch 3:  Loss:     0.0024 Validation Accuracy: 0.697000\n",
      "Epoch 16, CIFAR-10 Batch 4:  Loss:     0.0006 Validation Accuracy: 0.711600\n",
      "Epoch 16, CIFAR-10 Batch 5:  Loss:     0.0021 Validation Accuracy: 0.710000\n",
      "Epoch 17, CIFAR-10 Batch 1:  Loss:     0.0005 Validation Accuracy: 0.710200\n",
      "Epoch 17, CIFAR-10 Batch 2:  Loss:     0.0018 Validation Accuracy: 0.720600\n",
      "Epoch 17, CIFAR-10 Batch 3:  Loss:     0.0020 Validation Accuracy: 0.704200\n",
      "Epoch 17, CIFAR-10 Batch 4:  Loss:     0.0013 Validation Accuracy: 0.714400\n",
      "Epoch 17, CIFAR-10 Batch 5:  Loss:     0.0008 Validation Accuracy: 0.719200\n",
      "Epoch 18, CIFAR-10 Batch 1:  Loss:     0.0009 Validation Accuracy: 0.716800\n",
      "Epoch 18, CIFAR-10 Batch 2:  Loss:     0.0009 Validation Accuracy: 0.717400\n",
      "Epoch 18, CIFAR-10 Batch 3:  Loss:     0.0003 Validation Accuracy: 0.716800\n",
      "Epoch 18, CIFAR-10 Batch 4:  Loss:     0.0018 Validation Accuracy: 0.717600\n",
      "Epoch 18, CIFAR-10 Batch 5:  Loss:     0.0009 Validation Accuracy: 0.702400\n",
      "Epoch 19, CIFAR-10 Batch 1:  Loss:     0.0006 Validation Accuracy: 0.726200\n",
      "Epoch 19, CIFAR-10 Batch 2:  Loss:     0.0001 Validation Accuracy: 0.728400\n",
      "Epoch 19, CIFAR-10 Batch 3:  Loss:     0.0004 Validation Accuracy: 0.715200\n",
      "Epoch 19, CIFAR-10 Batch 4:  Loss:     0.0001 Validation Accuracy: 0.721600\n",
      "Epoch 19, CIFAR-10 Batch 5:  Loss:     0.0005 Validation Accuracy: 0.719200\n",
      "Epoch 20, CIFAR-10 Batch 1:  Loss:     0.0006 Validation Accuracy: 0.722800\n",
      "Epoch 20, CIFAR-10 Batch 2:  Loss:     0.0002 Validation Accuracy: 0.725400\n",
      "Epoch 20, CIFAR-10 Batch 3:  Loss:     0.0003 Validation Accuracy: 0.717400\n",
      "Epoch 20, CIFAR-10 Batch 4:  Loss:     0.0009 Validation Accuracy: 0.722400\n",
      "Epoch 20, CIFAR-10 Batch 5:  Loss:     0.0001 Validation Accuracy: 0.714200\n",
      "Epoch 21, CIFAR-10 Batch 1:  Loss:     0.0001 Validation Accuracy: 0.725200\n",
      "Epoch 21, CIFAR-10 Batch 2:  Loss:     0.0003 Validation Accuracy: 0.724000\n",
      "Epoch 21, CIFAR-10 Batch 3:  Loss:     0.0005 Validation Accuracy: 0.721000\n",
      "Epoch 21, CIFAR-10 Batch 4:  Loss:     0.0001 Validation Accuracy: 0.726000\n",
      "Epoch 21, CIFAR-10 Batch 5:  Loss:     0.0001 Validation Accuracy: 0.715200\n",
      "Epoch 22, CIFAR-10 Batch 1:  Loss:     0.0009 Validation Accuracy: 0.723800\n",
      "Epoch 22, CIFAR-10 Batch 2:  Loss:     0.0002 Validation Accuracy: 0.729000\n",
      "Epoch 22, CIFAR-10 Batch 3:  Loss:     0.0000 Validation Accuracy: 0.724600\n",
      "Epoch 22, CIFAR-10 Batch 4:  Loss:     0.0002 Validation Accuracy: 0.719800\n",
      "Epoch 22, CIFAR-10 Batch 5:  Loss:     0.0000 Validation Accuracy: 0.716600\n",
      "Epoch 23, CIFAR-10 Batch 1:  Loss:     0.0011 Validation Accuracy: 0.720600\n",
      "Epoch 23, CIFAR-10 Batch 2:  Loss:     0.0001 Validation Accuracy: 0.733400\n",
      "Epoch 23, CIFAR-10 Batch 3:  Loss:     0.0000 Validation Accuracy: 0.736400\n",
      "Epoch 23, CIFAR-10 Batch 4:  Loss:     0.0000 Validation Accuracy: 0.725800\n",
      "Epoch 23, CIFAR-10 Batch 5:  Loss:     0.0000 Validation Accuracy: 0.722600\n",
      "Epoch 24, CIFAR-10 Batch 1:  Loss:     0.0000 Validation Accuracy: 0.726800\n",
      "Epoch 24, CIFAR-10 Batch 2:  Loss:     0.0000 Validation Accuracy: 0.731000\n",
      "Epoch 24, CIFAR-10 Batch 3:  Loss:     0.0000 Validation Accuracy: 0.734600\n",
      "Epoch 24, CIFAR-10 Batch 4:  Loss:     0.0000 Validation Accuracy: 0.730000\n",
      "Epoch 24, CIFAR-10 Batch 5:  Loss:     0.0001 Validation Accuracy: 0.729800\n",
      "Epoch 25, CIFAR-10 Batch 1:  Loss:     0.0000 Validation Accuracy: 0.727400\n",
      "Epoch 25, CIFAR-10 Batch 2:  Loss:     0.0000 Validation Accuracy: 0.729000\n",
      "Epoch 25, CIFAR-10 Batch 3:  Loss:     0.0000 Validation Accuracy: 0.732400\n",
      "Epoch 25, CIFAR-10 Batch 4:  Loss:     0.0003 Validation Accuracy: 0.727000\n",
      "Epoch 25, CIFAR-10 Batch 5:  Loss:     0.0000 Validation Accuracy: 0.734200\n"
     ]
    }
   ],
   "source": [
    "\"\"\"\n",
    "DON'T MODIFY ANYTHING IN THIS CELL\n",
    "\"\"\"\n",
    "save_model_path = './image_classification'\n",
    "\n",
    "print('Training...')\n",
    "with tf.Session() as sess:\n",
    "    # Initializing the variables\n",
    "    sess.run(tf.global_variables_initializer())\n",
    "    \n",
    "    # Training cycle\n",
    "    for epoch in range(epochs):\n",
    "        # Loop over all batches\n",
    "        n_batches = 5\n",
    "        for batch_i in range(1, n_batches + 1):\n",
    "            for batch_features, batch_labels in helper.load_preprocess_training_batch(batch_i, batch_size):\n",
    "                train_neural_network(sess, optimizer, keep_probability, batch_features, batch_labels)\n",
    "            print('Epoch {:>2}, CIFAR-10 Batch {}:  '.format(epoch + 1, batch_i), end='')\n",
    "            print_stats(sess, batch_features, batch_labels, cost, accuracy)\n",
    "            \n",
    "    # Save Model\n",
    "    saver = tf.train.Saver()\n",
    "    save_path = saver.save(sess, save_model_path)"
   ]
  },
  {
   "cell_type": "code",
   "execution_count": 128,
   "metadata": {},
   "outputs": [
    {
     "name": "stdout",
     "output_type": "stream",
     "text": [
      "INFO:tensorflow:Restoring parameters from ./image_classification\n",
      "Testing Accuracy: 0.7287109375\n",
      "\n"
     ]
    },
    {
     "data": {
      "image/png": "[encoded data removed]",
      "text/plain": [
       "<matplotlib.figure.Figure at 0x29ba5805438>"
      ]
     },
     "metadata": {
      "image/png": {
       "height": 319,
       "width": 355
      }
     },
     "output_type": "display_data"
    }
   ],
   "source": [
    "\"\"\"\n",
    "DON'T MODIFY ANYTHING IN THIS CELL\n",
    "\"\"\"\n",
    "%matplotlib inline\n",
    "%config InlineBackend.figure_format = 'retina'\n",
    "\n",
    "import tensorflow as tf\n",
    "import pickle\n",
    "import helper\n",
    "import random\n",
    "\n",
    "# Set batch size if not already set\n",
    "try:\n",
    "    if batch_size:\n",
    "        pass\n",
    "except NameError:\n",
    "    batch_size = 64\n",
    "\n",
    "save_model_path = './image_classification'\n",
    "n_samples = 4\n",
    "top_n_predictions = 3\n",
    "\n",
    "def test_model():\n",
    "    \"\"\"\n",
    "    Test the saved model against the test dataset\n",
    "    \"\"\"\n",
    "\n",
    "    test_features, test_labels = pickle.load(open('preprocess_test.p', mode='rb'))\n",
    "    loaded_graph = tf.Graph()\n",
    "\n",
    "    with tf.Session(graph=loaded_graph) as sess:\n",
    "        # Load model\n",
    "        loader = tf.train.import_meta_graph(save_model_path + '.meta')\n",
    "        loader.restore(sess, save_model_path)\n",
    "\n",
    "        # Get Tensors from loaded model\n",
    "        loaded_x = loaded_graph.get_tensor_by_name('x:0')\n",
    "        loaded_y = loaded_graph.get_tensor_by_name('y:0')\n",
    "        loaded_keep_prob = loaded_graph.get_tensor_by_name('keep_prob:0')\n",
    "        loaded_logits = loaded_graph.get_tensor_by_name('logits:0')\n",
    "        loaded_acc = loaded_graph.get_tensor_by_name('accuracy:0')\n",
    "        \n",
    "        # Get accuracy in batches for memory limitations\n",
    "        test_batch_acc_total = 0\n",
    "        test_batch_count = 0\n",
    "        \n",
    "        for test_feature_batch, test_label_batch in helper.batch_features_labels(test_features, test_labels, batch_size):\n",
    "            test_batch_acc_total += sess.run(\n",
    "                loaded_acc,\n",
    "                feed_dict={loaded_x: test_feature_batch, loaded_y: test_label_batch, loaded_keep_prob: 1.0})\n",
    "            test_batch_count += 1\n",
    "\n",
    "        print('Testing Accuracy: {}\\n'.format(test_batch_acc_total/test_batch_count))\n",
    "\n",
    "        # Print Random Samples\n",
    "        random_test_features, random_test_labels = tuple(zip(*random.sample(list(zip(test_features, test_labels)), n_samples)))\n",
    "        random_test_predictions = sess.run(\n",
    "            tf.nn.top_k(tf.nn.softmax(loaded_logits), top_n_predictions),\n",
    "            feed_dict={loaded_x: random_test_features, loaded_y: random_test_labels, loaded_keep_prob: 1.0})\n",
    "        helper.display_image_predictions(random_test_features, random_test_labels, random_test_predictions)\n",
    "\n",
    "\n",
    "test_model()"
   ]
  }
 ],
 "metadata": {
  "kernelspec": {
   "display_name": "Python 3",
   "language": "python",
   "name": "python3"
  },
  "language_info": {
   "codemirror_mode": {
    "name": "ipython",
    "version": 3
   },
   "file_extension": ".py",
   "mimetype": "text/x-python",
   "name": "python",
   "nbconvert_exporter": "python",
   "pygments_lexer": "ipython3",
   "version": "3.5.4"
  }
 },
 "nbformat": 4,
 "nbformat_minor": 1
}
