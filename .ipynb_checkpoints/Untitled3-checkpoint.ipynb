{
 "cells": [
  {
   "cell_type": "code",
   "execution_count": 1,
   "metadata": {},
   "outputs": [
    {
     "name": "stderr",
     "output_type": "stream",
     "text": [
      "/home/huyu/miniconda3/lib/python3.6/importlib/_bootstrap.py:219: RuntimeWarning: compiletime version 3.5 of module 'tensorflow.python.framework.fast_tensor_util' does not match runtime version 3.6\n",
      "  return f(*args, **kwds)\n"
     ]
    }
   ],
   "source": [
    "import tensorflow as tf\n",
    "import tensorflow.contrib.slim as slim\n",
    "import matplotlib.pyplot as plt"
   ]
  },
  {
   "cell_type": "code",
   "execution_count": 2,
   "metadata": {},
   "outputs": [],
   "source": [
    "import random "
   ]
  },
  {
   "cell_type": "code",
   "execution_count": 4,
   "metadata": {},
   "outputs": [
    {
     "name": "stdout",
     "output_type": "stream",
     "text": [
      "All files found!\n"
     ]
    }
   ],
   "source": [
    "from urllib.request import urlretrieve\n",
    "from os.path import isfile, isdir\n",
    "from tqdm import tqdm\n",
    "import problem_unittests as tests\n",
    "import tarfile\n",
    "\n",
    "cifar10_dataset_folder_path = 'cifar-10-batches-py'\n",
    "\n",
    "# Use Floyd's cifar-10 dataset if present\n",
    "floyd_cifar10_location = '/input/cifar-10/python.tar.gz'\n",
    "if isfile(floyd_cifar10_location):\n",
    "    tar_gz_path = floyd_cifar10_location\n",
    "else:\n",
    "    tar_gz_path = 'cifar-10-python.tar.gz'\n",
    "\n",
    "class DLProgress(tqdm):\n",
    "    last_block = 0\n",
    "\n",
    "    def hook(self, block_num=1, block_size=1, total_size=None):\n",
    "        self.total = total_size\n",
    "        self.update((block_num - self.last_block) * block_size)\n",
    "        self.last_block = block_num\n",
    "\n",
    "if not isfile(tar_gz_path):\n",
    "    with DLProgress(unit='B', unit_scale=True, miniters=1, desc='CIFAR-10 Dataset') as pbar:\n",
    "        urlretrieve(\n",
    "            'https://www.cs.toronto.edu/~kriz/cifar-10-python.tar.gz',\n",
    "            tar_gz_path,\n",
    "            pbar.hook)\n",
    "\n",
    "if not isdir(cifar10_dataset_folder_path):\n",
    "    with tarfile.open(tar_gz_path) as tar:\n",
    "        tar.extractall()\n",
    "        tar.close()\n",
    "\n",
    "\n",
    "tests.test_folder_path(cifar10_dataset_folder_path)"
   ]
  },
  {
   "cell_type": "code",
   "execution_count": 5,
   "metadata": {},
   "outputs": [
    {
     "name": "stdout",
     "output_type": "stream",
     "text": [
      "\n",
      "Stats of batch 3:\n",
      "Samples: 10000\n",
      "Label Counts: {0: 994, 1: 1042, 2: 965, 3: 997, 4: 990, 5: 1029, 6: 978, 7: 1015, 8: 961, 9: 1029}\n",
      "First 20 Labels: [8, 5, 0, 6, 9, 2, 8, 3, 6, 2, 7, 4, 6, 9, 0, 0, 7, 3, 7, 2]\n",
      "\n",
      "Example of Image 555:\n",
      "Image - Min Value: 10 Max Value: 254\n",
      "Image - Shape: (32, 32, 3)\n",
      "Label - Label Id: 0 Name: airplane\n"
     ]
    },
    {
     "data": {
      "image/png": "[encoded data removed]",
      "text/plain": [
       "<matplotlib.figure.Figure at 0x7f31c9f668d0>"
      ]
     },
     "metadata": {
      "image/png": {
       "height": 250,
       "width": 253
      }
     },
     "output_type": "display_data"
    }
   ],
   "source": [
    "%matplotlib inline\n",
    "%config InlineBackend.figure_format = 'retina'\n",
    "\n",
    "import helper\n",
    "import numpy as np\n",
    "\n",
    "# Explore the dataset\n",
    "batch_id = 3\n",
    "sample_id = 555\n",
    "helper.display_stats(cifar10_dataset_folder_path, batch_id, sample_id)"
   ]
  },
  {
   "cell_type": "code",
   "execution_count": 6,
   "metadata": {},
   "outputs": [
    {
     "name": "stdout",
     "output_type": "stream",
     "text": [
      "Samples: 10000\n",
      "Label Counts: {0: 1005, 1: 974, 2: 1032, 3: 1016, 4: 999, 5: 937, 6: 1030, 7: 1001, 8: 1025, 9: 981}\n",
      "First 20 Labels: [6, 9, 9, 4, 1, 1, 2, 7, 8, 3, 4, 7, 7, 2, 9, 9, 9, 3, 2, 6]\n"
     ]
    }
   ],
   "source": [
    "features_0, labels_0 = helper.load_cfar10_batch(cifar10_dataset_folder_path, 1)\n",
    "print('Samples: {}'.format(len(features_0)))\n",
    "print('Label Counts: {}'.format(dict(zip(*np.unique(labels_0, return_counts=True)))))\n",
    "print('First 20 Labels: {}'.format(labels_0[:20]))"
   ]
  },
  {
   "cell_type": "code",
   "execution_count": 7,
   "metadata": {},
   "outputs": [],
   "source": [
    "air=[]\n",
    "mobile = []\n",
    "for index,value in enumerate(labels_0):\n",
    "    if value == 0:\n",
    "        air.append(features_0[index])\n",
    "    elif value == 1:\n",
    "        mobile.append(features_0[index])"
   ]
  },
  {
   "cell_type": "code",
   "execution_count": 8,
   "metadata": {},
   "outputs": [
    {
     "data": {
      "text/plain": [
       "<matplotlib.image.AxesImage at 0x7f31c113b358>"
      ]
     },
     "execution_count": 8,
     "metadata": {},
     "output_type": "execute_result"
    },
    {
     "data": {
      "image/png": "[encoded data removed]",
      "text/plain": [
       "<matplotlib.figure.Figure at 0x7f31c83acfd0>"
      ]
     },
     "metadata": {
      "image/png": {
       "height": 250,
       "width": 253
      }
     },
     "output_type": "display_data"
    }
   ],
   "source": [
    "plt.axis('off')\n",
    "# plt.imshow(air[100])\n",
    "plt.imshow(air[100])"
   ]
  },
  {
   "cell_type": "code",
   "execution_count": 9,
   "metadata": {},
   "outputs": [
    {
     "name": "stdout",
     "output_type": "stream",
     "text": [
      "Samples: 10000\n",
      "Label Counts: {0: 984, 1: 1007, 2: 1010, 3: 995, 4: 1010, 5: 988, 6: 1008, 7: 1026, 8: 987, 9: 985}\n",
      "First 20 Labels: [1, 6, 6, 8, 8, 3, 4, 6, 0, 6, 0, 3, 6, 6, 5, 4, 8, 3, 2, 6]\n"
     ]
    }
   ],
   "source": [
    "\n",
    "features_1, labels_1 = helper.load_cfar10_batch(cifar10_dataset_folder_path, 2)\n",
    "print('Samples: {}'.format(len(features_1)))\n",
    "print('Label Counts: {}'.format(dict(zip(*np.unique(labels_1, return_counts=True)))))\n",
    "print('First 20 Labels: {}'.format(labels_1[:20]))"
   ]
  },
  {
   "cell_type": "code",
   "execution_count": 10,
   "metadata": {},
   "outputs": [],
   "source": [
    "for index,value in enumerate(labels_1):\n",
    "    if value == 0:\n",
    "        air.append(features_1[index])\n",
    "    elif value == 1:\n",
    "        mobile.append(features_1[index])"
   ]
  },
  {
   "cell_type": "code",
   "execution_count": 11,
   "metadata": {},
   "outputs": [],
   "source": [
    "# print(features[0].shape)\n",
    "# plt.imshow(mobile[1716])"
   ]
  },
  {
   "cell_type": "code",
   "execution_count": 12,
   "metadata": {},
   "outputs": [
    {
     "name": "stdout",
     "output_type": "stream",
     "text": [
      "normalize x.shape =  (92, 32, 32, 3)\n",
      "Tests Passed\n"
     ]
    }
   ],
   "source": [
    "def normalize(x):\n",
    "    \"\"\"\n",
    "    Normalize a list of sample image data in the range of 0 to 1\n",
    "    : x: List of image data.  The image shape is (32, 32, 3)\n",
    "    : return: Numpy array of normalize data\n",
    "    \"\"\"\n",
    "    # TODO: Implement Function\n",
    "    print(\"normalize x.shape = \",x.shape)\n",
    "    return x / 255.0\n",
    "\n",
    "\n",
    "tests.test_normalize(normalize)"
   ]
  },
  {
   "cell_type": "code",
   "execution_count": 13,
   "metadata": {},
   "outputs": [
    {
     "name": "stdout",
     "output_type": "stream",
     "text": [
      "normalize x.shape =  (1989, 32, 32, 3)\n",
      "normalize x.shape =  (1981, 32, 32, 3)\n"
     ]
    }
   ],
   "source": [
    "# normalation\n",
    "air_normal = normalize(np.array(air))\n",
    "mobile_normal = normalize(np.array(mobile))"
   ]
  },
  {
   "cell_type": "code",
   "execution_count": 14,
   "metadata": {},
   "outputs": [],
   "source": [
    "train_air = air_normal[:128]\n",
    "\n",
    "train_mobile = mobile_normal[:128]"
   ]
  },
  {
   "cell_type": "code",
   "execution_count": 15,
   "metadata": {},
   "outputs": [
    {
     "name": "stdout",
     "output_type": "stream",
     "text": [
      "1024\n",
      "1024\n"
     ]
    }
   ],
   "source": [
    "valid_ari = air_normal[-1024:]\n",
    "valid_air_label = np.zeros(len(valid_ari))\n",
    "valid_mobile = mobile_normal[-1024:]\n",
    "valid_mobile_label = np.ones(len(valid_mobile))\n",
    "print(len(valid_ari))\n",
    "print(len(valid_mobile))"
   ]
  },
  {
   "cell_type": "code",
   "execution_count": 48,
   "metadata": {
    "collapsed": true
   },
   "outputs": [],
   "source": [
    "def split(air_in,mobile_in):\n",
    "        feature_input = air_in + mobile_in\n",
    "        \n",
    "        print('len air_in = ',len(air_in))\n",
    "        air_label = np.zeros(len(air_in),dtype=np.int32)\n",
    "        mobile_label = np.ones(len(mobile_in),dtype=np.int32)\n",
    "        label_input = air_label + mobile_label\n",
    "        \n",
    "        air_object = np.random.permutation(air_in)\n",
    "        mobile_object = np.random.permutation(mobile_object)\n",
    "        feature_object = air_object + mobile_object\n",
    "        \n",
    "        \n",
    "        shuf_index = np.random.permutation(len(feature_input))\n",
    "        \n",
    "        return feature_input[shuf_index],feature_object[shuf_index],"
   ]
  },
  {
   "cell_type": "code",
   "execution_count": 49,
   "metadata": {},
   "outputs": [],
   "source": [
    "# plt.imshow(train_mobile[234])\n",
    "# print(train_mobile[234])"
   ]
  },
  {
   "cell_type": "code",
   "execution_count": 16,
   "metadata": {},
   "outputs": [],
   "source": [
    "def batch_features_labels(air, mobile, batch_size):\n",
    "    \"\"\"\n",
    "    Split features and labels into batches\n",
    "    \"\"\"\n",
    "    for start in range(0, len(air), batch_size):\n",
    "        end = min(start + batch_size, len(air))\n",
    "        \n",
    "        air_in = air[start:end]\n",
    "        mobile_in = mobile[start:end]\n",
    "        feature_input = np.concatenate((air_in , mobile_in)) \n",
    "        \n",
    "        lengh = len(air_in)\n",
    "#         print('len air_in = ',lengh)\n",
    "        air_label = np.zeros(lengh,dtype=np.int32)\n",
    "        mobile_label = np.ones(lengh,dtype=np.int32)\n",
    "        label_input =  np.concatenate((air_label , mobile_label))\n",
    "        \n",
    "        air_object = np.random.permutation(air_in)\n",
    "        mobile_object = np.random.permutation(mobile_in)\n",
    "        feature_object = np.concatenate((air_object , mobile_object))\n",
    "        \n",
    "        shuf_index = np.random.permutation(len(feature_input))\n",
    "        \n",
    "        yield feature_input[shuf_index],feature_object[shuf_index],label_input[shuf_index]"
   ]
  },
  {
   "cell_type": "code",
   "execution_count": 17,
   "metadata": {},
   "outputs": [
    {
     "name": "stdout",
     "output_type": "stream",
     "text": [
      "batch_features len =  (64, 32, 32, 3)\n",
      "batch_feature_object len =  [[[0.44705882 0.46666667 0.49019608]\n",
      "  [0.45882353 0.47843137 0.49411765]\n",
      "  [0.47058824 0.49411765 0.50588235]\n",
      "  ...\n",
      "  [0.64705882 0.65098039 0.62745098]\n",
      "  [0.49019608 0.49411765 0.4745098 ]\n",
      "  [0.40392157 0.40392157 0.43137255]]\n",
      "\n",
      " [[0.43529412 0.45490196 0.47843137]\n",
      "  [0.45490196 0.4745098  0.49803922]\n",
      "  [0.4745098  0.49411765 0.52156863]\n",
      "  ...\n",
      "  [0.63529412 0.63921569 0.61568627]\n",
      "  [0.49803922 0.50196078 0.48235294]\n",
      "  [0.40392157 0.40392157 0.42745098]]\n",
      "\n",
      " [[0.44705882 0.46666667 0.49019608]\n",
      "  [0.4745098  0.49019608 0.53333333]\n",
      "  [0.50196078 0.51764706 0.55686275]\n",
      "  ...\n",
      "  [0.65490196 0.65882353 0.63529412]\n",
      "  [0.51764706 0.52156863 0.49411765]\n",
      "  [0.41568627 0.42352941 0.4       ]]\n",
      "\n",
      " ...\n",
      "\n",
      " [[0.64705882 0.65098039 0.63137255]\n",
      "  [0.66666667 0.67058824 0.65490196]\n",
      "  [0.68627451 0.69019608 0.67058824]\n",
      "  ...\n",
      "  [0.7254902  0.70196078 0.65882353]\n",
      "  [0.81176471 0.78039216 0.76078431]\n",
      "  [0.78823529 0.75686275 0.7254902 ]]\n",
      "\n",
      " [[0.68627451 0.69019608 0.67058824]\n",
      "  [0.68627451 0.69019608 0.67058824]\n",
      "  [0.70588235 0.70980392 0.69019608]\n",
      "  ...\n",
      "  [0.73333333 0.71372549 0.63529412]\n",
      "  [0.78431373 0.76078431 0.70980392]\n",
      "  [0.75686275 0.72941176 0.69803922]]\n",
      "\n",
      " [[0.67843137 0.68235294 0.6627451 ]\n",
      "  [0.67058824 0.6745098  0.65490196]\n",
      "  [0.69411765 0.69803922 0.67843137]\n",
      "  ...\n",
      "  [0.80392157 0.78431373 0.71372549]\n",
      "  [0.82352941 0.8        0.75294118]\n",
      "  [0.79215686 0.76470588 0.73333333]]]\n",
      "batch_labels len =  (64,)\n",
      "[1 1 0 1 1 1 0 1 0 1 1 0 1 0 0 1 0 0 0 1 0 0 1 0 0 0 0 1 1 1 1 0 0 1 1 1 1\n",
      " 1 0 0 1 0 0 0 1 1 1 1 1 1 0 0 0 1 0 0 0 0 0 1 1 0 0 1]\n"
     ]
    }
   ],
   "source": [
    "for batch_features,batch_feature_object, batch_labels in batch_features_labels(train_air,train_mobile,32):\n",
    "    print('batch_features len = ',batch_features.shape)\n",
    "    print('batch_feature_object len = ',batch_feature_object[0])\n",
    "#     plt.imshow(batch_features[1])\n",
    "#     plt.imshow(batch_feature_object[0])\n",
    "    print('batch_labels len = ',batch_labels.shape)\n",
    "    print(batch_labels)\n",
    "    break"
   ]
  },
  {
   "cell_type": "code",
   "execution_count": 18,
   "metadata": {},
   "outputs": [],
   "source": [
    "def neural_net_image_input(image_shape):\n",
    "    \"\"\"\n",
    "    Return a Tensor for a batch of image input\n",
    "    : image_shape: Shape of the images\n",
    "    : return: Tensor for image input.\n",
    "    \"\"\"\n",
    "    print(image_shape)\n",
    "    # TODO: Implement Function\n",
    "    \n",
    "    return tf.placeholder(dtype=tf.float32,shape=(None,*image_shape),name='x')\n",
    "\n",
    "def neural_net_image_object(image_shape):\n",
    "    \"\"\"\n",
    "    Return a Tensor for a batch of image input\n",
    "    : image_shape: Shape of the images\n",
    "    : return: Tensor for image input.\n",
    "    \"\"\"\n",
    "    print(image_shape)\n",
    "    # TODO: Implement Function\n",
    "    \n",
    "    return tf.placeholder(dtype=tf.float32,shape=(None,*image_shape),name='x')\n",
    "\n",
    "\n",
    "def neural_net_label_input(n_classes):\n",
    "    \"\"\"\n",
    "    Return a Tensor for a batch of label input\n",
    "    : n_classes: Number of classes\n",
    "    : return: Tensor for label input.\n",
    "    \"\"\"\n",
    "    # TODO: Implement Function\n",
    "    return tf.placeholder(dtype=tf.int32,shape=(None),name='y')\n",
    "\n",
    "\n",
    "def neural_net_keep_prob_input():\n",
    "    \"\"\"\n",
    "    Return a Tensor for keep probability\n",
    "    : return: Tensor for keep probability.\n",
    "    \"\"\"\n",
    "    # TODO: Implement Function\n",
    "    return tf.placeholder(dtype=tf.float32,name='keep_prob')\n",
    "\n",
    "def neural_net_regulation_scale():\n",
    "    return tf.placeholder(dtype=tf.float32,name='reguloss')\n",
    "\n",
    "def neural_new_is_training():\n",
    "    return tf.placeholder(dtype=tf.bool,name='is_training')\n",
    "\n",
    "\n",
    "# \"\"\"\n",
    "# DON'T MODIFY ANYTHING IN THIS CELL THAT IS BELOW THIS LINE\n",
    "# \"\"\"\n",
    "# tf.reset_default_graph()\n",
    "# tests.test_nn_image_inputs(neural_net_image_input)\n",
    "# tests.test_nn_label_inputs(neural_net_label_input)\n",
    "# tests.test_nn_keep_prob_inputs(neural_net_keep_prob_input)"
   ]
  },
  {
   "cell_type": "code",
   "execution_count": null,
   "metadata": {},
   "outputs": [],
   "source": []
  },
  {
   "cell_type": "code",
   "execution_count": 19,
   "metadata": {},
   "outputs": [
    {
     "name": "stdout",
     "output_type": "stream",
     "text": [
      "(32, 32, 3)\n",
      "(32, 32, 3)\n"
     ]
    }
   ],
   "source": [
    "tf.reset_default_graph()\n",
    "\n",
    "# Inputs\n",
    "x = neural_net_image_input((32, 32, 3))\n",
    "\n",
    "x_o = neural_net_image_object((32,32,3))\n",
    "y = neural_net_label_input(1)\n",
    "keep_prob = neural_net_keep_prob_input()\n",
    "reg_loss = neural_net_regulation_scale()\n",
    "is_training = neural_new_is_training();"
   ]
  },
  {
   "cell_type": "code",
   "execution_count": 20,
   "metadata": {},
   "outputs": [],
   "source": [
    "from model.small_resnet import *\n",
    "import numpy as np\n",
    "from model import model_small_char as model"
   ]
  },
  {
   "cell_type": "code",
   "execution_count": 21,
   "metadata": {},
   "outputs": [
    {
     "name": "stdout",
     "output_type": "stream",
     "text": [
      "MaxPool_1 =  [None, 16, 16, 32]\n",
      "MaxPool_2 =  [None, 16, 16, 64]\n",
      "MaxPool_3 =  [None, 8, 8, 64]\n",
      "MaxPool_4 =  [None, 4, 4, 256]\n",
      "net1 =  [None, 256]\n",
      "out =  [None, 2]\n"
     ]
    }
   ],
   "source": [
    "##############################\n",
    "## Build the Neural Network ##\n",
    "##############################\n",
    "\n",
    "# Remove previous weights, bias, inputs, etc..\n",
    "\n",
    "\n",
    "# Model\n",
    "network = model.NetWork(2)\n",
    "prelogits, decoded = network.buildNetWork(x,is_train= is_training,weight_decay = 5e-4,reuse= tf.AUTO_REUSE)\n",
    "\n",
    "# loss_decode = tf.nn.sigmoid_cross_entropy_with_logits(labels=x_o, logits=decoded)\n",
    "cost_decode = tf.reduce_mean(tf.pow(x_o - decoded, 2))\n",
    "\n",
    "loss_sig = tf.nn.sparse_softmax_cross_entropy_with_logits(labels=y, logits=prelogits)\n",
    "# loss_sig = tf.nn.sigmoid_cross_entropy_with_logits(labels=y,logits=prelogits)\n",
    "cost_sig = tf.reduce_mean(loss_sig)\n",
    "\n",
    "regule_loss = tf.get_collection(tf.GraphKeys.REGULARIZATION_LOSSES)\n",
    "\n",
    "cost = tf.add_n([cost_sig]+regule_loss,name='cost')"
   ]
  },
  {
   "cell_type": "code",
   "execution_count": 22,
   "metadata": {},
   "outputs": [],
   "source": [
    "# cost += regulation_cost\n",
    "global_step = tf.Variable(0,trainable=False)\n",
    "initial_learning_rate = 0.001\n",
    "learning_rate = tf.train.exponential_decay(initial_learning_rate,global_step=global_step,decay_steps=500,decay_rate=0.95,staircase=True)\n",
    "optimizer = tf.train.AdamOptimizer(learning_rate).minimize(cost, global_step=global_step)\n",
    "keep_probability = 1.0\n",
    "\n",
    "\n",
    "\n"
   ]
  },
  {
   "cell_type": "code",
   "execution_count": 23,
   "metadata": {},
   "outputs": [],
   "source": [
    "# Accuracy\n",
    "\n",
    "predicted_gender = tf.nn.softmax(prelogits)\n",
    "correct_pred_gender= tf.equal( tf.argmax(predicted_gender,1,output_type=tf.int32),y)\n",
    "accuracy_gender = tf.reduce_mean(tf.cast(correct_pred_gender,tf.float32))"
   ]
  },
  {
   "cell_type": "code",
   "execution_count": 24,
   "metadata": {},
   "outputs": [],
   "source": [
    "arr_old=[]\n",
    "arr_new =[]\n"
   ]
  },
  {
   "cell_type": "code",
   "execution_count": 33,
   "metadata": {},
   "outputs": [
    {
     "name": "stdout",
     "output_type": "stream",
     "text": [
      "[0 0 0 1 0 1 0 1 0 0 1 1 0 1 0 1 1 0 0 1 0 1 0 1 1 0 0 0 0 0 1 1 1 1 1 1 1\n",
      " 0 0 1 1 1 1 1 0 1 0 1 0 0 1 0 1 1 1 0 1 1 1 0 1 0 0 0 0 0 1 1 1 0 0 0 1 0\n",
      " 0 1 0 1 0 0 0 0 0 1 1 1 1 1 1 1 1 0 0 0 0 0 0 0 0 0 1 1 0 1 1 0 1 1 1 1 0\n",
      " 1 1 1 0 1 1 1 0 0 1 1 1 1 1 0 0 1 1 1 0 0 1 1 1 1 0 0 1 1 0 1 0 1 1 0 1 0\n",
      " 1 1 0 0 0 0 1 1 0 1 1 1 0 1 1 0 1 1 0 0 1 0 1 0 0 1 0 1 1 0 1 1 0 1 0 1 1\n",
      " 1 0 1 0 0 0 1 1 1 0 0 0 1 0 1 1 0 1 0 1 1 0 0 1 0 0 0 0 0 0 1 1 0 1 1 1 0\n",
      " 0 0 1 0 0 0 1 0 1 1 0 0 1 0 0 0 0 0 1 1 0 1 0 0 0 0 1 0 0 0 1 0 0 0]\n"
     ]
    },
    {
     "ename": "IndexError",
     "evalue": "list index out of range",
     "output_type": "error",
     "traceback": [
      "\u001b[0;31m---------------------------------------------------------------------------\u001b[0m",
      "\u001b[0;31mIndexError\u001b[0m                                Traceback (most recent call last)",
      "\u001b[0;32m<ipython-input-33-6d4e1cd2fb60>\u001b[0m in \u001b[0;36m<module>\u001b[0;34m()\u001b[0m\n\u001b[1;32m      1\u001b[0m \u001b[0mprint\u001b[0m\u001b[0;34m(\u001b[0m\u001b[0marr_old\u001b[0m\u001b[0;34m)\u001b[0m\u001b[0;34m\u001b[0m\u001b[0m\n\u001b[0;32m----> 2\u001b[0;31m \u001b[0mplt\u001b[0m\u001b[0;34m.\u001b[0m\u001b[0mimshow\u001b[0m\u001b[0;34m(\u001b[0m\u001b[0marr_new\u001b[0m\u001b[0;34m[\u001b[0m\u001b[0;36m6\u001b[0m\u001b[0;34m]\u001b[0m\u001b[0;34m)\u001b[0m\u001b[0;34m\u001b[0m\u001b[0m\n\u001b[0m",
      "\u001b[0;31mIndexError\u001b[0m: list index out of range"
     ]
    }
   ],
   "source": [
    "print(arr_old)\n",
    "plt.imshow(arr_new[6])"
   ]
  },
  {
   "cell_type": "code",
   "execution_count": 32,
   "metadata": {},
   "outputs": [
    {
     "name": "stdout",
     "output_type": "stream",
     "text": [
      "Checking the Training on a Single Batch...\n",
      "epoch: 0\t batch_i: 2\tLoss 0.933\t loss_sigmod 0.840 \t loss_decode 0.000\n",
      "accuracy =  0.0\n",
      "epoch: 1\t batch_i: 2\tLoss 0.617\t loss_sigmod 0.523 \t loss_decode 0.000\n",
      "accuracy =  0.0\n",
      "epoch: 2\t batch_i: 2\tLoss 0.510\t loss_sigmod 0.417 \t loss_decode 0.000\n",
      "accuracy =  0.0\n",
      "epoch: 3\t batch_i: 2\tLoss 0.371\t loss_sigmod 0.278 \t loss_decode 0.000\n",
      "accuracy =  0.00390625\n",
      "epoch: 4\t batch_i: 2\tLoss 0.323\t loss_sigmod 0.230 \t loss_decode 0.000\n",
      "accuracy =  0.057617188\n",
      "epoch: 5\t batch_i: 2\tLoss 0.282\t loss_sigmod 0.188 \t loss_decode 0.000\n",
      "accuracy =  0.27246094\n",
      "epoch: 6\t batch_i: 2\tLoss 0.236\t loss_sigmod 0.143 \t loss_decode 0.000\n",
      "accuracy =  0.85058594\n",
      "epoch: 7\t batch_i: 2\tLoss 0.204\t loss_sigmod 0.111 \t loss_decode 0.000\n",
      "accuracy =  0.9902344\n",
      "epoch: 8\t batch_i: 2\tLoss 0.186\t loss_sigmod 0.093 \t loss_decode 0.000\n",
      "accuracy =  1.0\n",
      "epoch: 9\t batch_i: 2\tLoss 0.168\t loss_sigmod 0.074 \t loss_decode 0.000\n",
      "accuracy =  1.0\n",
      "epoch: 10\t batch_i: 2\tLoss 0.154\t loss_sigmod 0.060 \t loss_decode 0.000\n",
      "accuracy =  1.0\n",
      "epoch: 11\t batch_i: 2\tLoss 0.137\t loss_sigmod 0.043 \t loss_decode 0.000\n",
      "accuracy =  1.0\n",
      "epoch: 12\t batch_i: 2\tLoss 0.128\t loss_sigmod 0.035 \t loss_decode 0.000\n",
      "accuracy =  1.0\n",
      "epoch: 13\t batch_i: 2\tLoss 0.120\t loss_sigmod 0.026 \t loss_decode 0.000\n",
      "accuracy =  1.0\n",
      "epoch: 14\t batch_i: 2\tLoss 0.112\t loss_sigmod 0.019 \t loss_decode 0.000\n",
      "accuracy =  1.0\n",
      "epoch: 15\t batch_i: 2\tLoss 0.111\t loss_sigmod 0.017 \t loss_decode 0.000\n",
      "accuracy =  1.0\n",
      "epoch: 16\t batch_i: 2\tLoss 0.110\t loss_sigmod 0.016 \t loss_decode 0.000\n",
      "accuracy =  1.0\n",
      "epoch: 17\t batch_i: 2\tLoss 0.107\t loss_sigmod 0.013 \t loss_decode 0.000\n",
      "accuracy =  1.0\n",
      "epoch: 18\t batch_i: 2\tLoss 0.103\t loss_sigmod 0.009 \t loss_decode 0.000\n",
      "accuracy =  1.0\n",
      "epoch: 19\t batch_i: 2\tLoss 0.101\t loss_sigmod 0.007 \t loss_decode 0.000\n",
      "accuracy =  1.0\n",
      "epoch: 20\t batch_i: 2\tLoss 0.100\t loss_sigmod 0.006 \t loss_decode 0.000\n",
      "accuracy =  1.0\n",
      "epoch: 21\t batch_i: 2\tLoss 0.099\t loss_sigmod 0.006 \t loss_decode 0.000\n",
      "accuracy =  1.0\n",
      "epoch: 22\t batch_i: 2\tLoss 0.098\t loss_sigmod 0.005 \t loss_decode 0.000\n",
      "accuracy =  1.0\n",
      "epoch: 23\t batch_i: 2\tLoss 0.098\t loss_sigmod 0.004 \t loss_decode 0.000\n",
      "accuracy =  1.0\n",
      "epoch: 24\t batch_i: 2\tLoss 0.097\t loss_sigmod 0.004 \t loss_decode 0.000\n",
      "accuracy =  1.0\n",
      "epoch: 25\t batch_i: 2\tLoss 0.096\t loss_sigmod 0.003 \t loss_decode 0.000\n",
      "accuracy =  1.0\n",
      "epoch: 26\t batch_i: 2\tLoss 0.096\t loss_sigmod 0.003 \t loss_decode 0.000\n",
      "accuracy =  1.0\n",
      "epoch: 27\t batch_i: 2\tLoss 0.095\t loss_sigmod 0.002 \t loss_decode 0.000\n",
      "accuracy =  1.0\n",
      "epoch: 28\t batch_i: 2\tLoss 0.095\t loss_sigmod 0.002 \t loss_decode 0.000\n",
      "accuracy =  1.0\n",
      "epoch: 29\t batch_i: 2\tLoss 0.095\t loss_sigmod 0.002 \t loss_decode 0.000\n",
      "accuracy =  1.0\n",
      "epoch: 30\t batch_i: 2\tLoss 0.094\t loss_sigmod 0.002 \t loss_decode 0.000\n",
      "accuracy =  1.0\n",
      "epoch: 31\t batch_i: 2\tLoss 0.094\t loss_sigmod 0.002 \t loss_decode 0.000\n",
      "accuracy =  1.0\n",
      "epoch: 32\t batch_i: 2\tLoss 0.094\t loss_sigmod 0.002 \t loss_decode 0.000\n",
      "accuracy =  1.0\n",
      "epoch: 33\t batch_i: 2\tLoss 0.093\t loss_sigmod 0.001 \t loss_decode 0.000\n",
      "accuracy =  1.0\n",
      "epoch: 34\t batch_i: 2\tLoss 0.093\t loss_sigmod 0.001 \t loss_decode 0.000\n",
      "accuracy =  1.0\n",
      "epoch: 35\t batch_i: 2\tLoss 0.093\t loss_sigmod 0.001 \t loss_decode 0.000\n",
      "accuracy =  1.0\n",
      "epoch: 36\t batch_i: 2\tLoss 0.093\t loss_sigmod 0.001 \t loss_decode 0.000\n",
      "accuracy =  1.0\n",
      "epoch: 37\t batch_i: 2\tLoss 0.092\t loss_sigmod 0.001 \t loss_decode 0.000\n",
      "accuracy =  1.0\n",
      "epoch: 38\t batch_i: 2\tLoss 0.092\t loss_sigmod 0.001 \t loss_decode 0.000\n",
      "accuracy =  1.0\n",
      "epoch: 39\t batch_i: 2\tLoss 0.092\t loss_sigmod 0.001 \t loss_decode 0.000\n",
      "accuracy =  1.0\n",
      "epoch: 40\t batch_i: 2\tLoss 0.092\t loss_sigmod 0.001 \t loss_decode 0.000\n",
      "accuracy =  1.0\n",
      "epoch: 41\t batch_i: 2\tLoss 0.092\t loss_sigmod 0.001 \t loss_decode 0.000\n",
      "accuracy =  1.0\n",
      "epoch: 42\t batch_i: 2\tLoss 0.091\t loss_sigmod 0.001 \t loss_decode 0.000\n",
      "accuracy =  1.0\n",
      "epoch: 43\t batch_i: 2\tLoss 0.091\t loss_sigmod 0.001 \t loss_decode 0.000\n",
      "accuracy =  1.0\n",
      "epoch: 44\t batch_i: 2\tLoss 0.091\t loss_sigmod 0.001 \t loss_decode 0.000\n",
      "accuracy =  1.0\n",
      "epoch: 45\t batch_i: 2\tLoss 0.091\t loss_sigmod 0.001 \t loss_decode 0.000\n",
      "accuracy =  1.0\n",
      "epoch: 46\t batch_i: 2\tLoss 0.090\t loss_sigmod 0.001 \t loss_decode 0.000\n",
      "accuracy =  1.0\n",
      "epoch: 47\t batch_i: 2\tLoss 0.090\t loss_sigmod 0.001 \t loss_decode 0.000\n",
      "accuracy =  1.0\n",
      "epoch: 48\t batch_i: 2\tLoss 0.090\t loss_sigmod 0.001 \t loss_decode 0.000\n",
      "accuracy =  1.0\n",
      "epoch: 49\t batch_i: 2\tLoss 0.090\t loss_sigmod 0.001 \t loss_decode 0.000\n",
      "accuracy =  1.0\n",
      "epoch: 50\t batch_i: 2\tLoss 0.090\t loss_sigmod 0.001 \t loss_decode 0.000\n",
      "accuracy =  1.0\n",
      "epoch: 51\t batch_i: 2\tLoss 0.089\t loss_sigmod 0.001 \t loss_decode 0.000\n",
      "accuracy =  1.0\n",
      "epoch: 52\t batch_i: 2\tLoss 0.089\t loss_sigmod 0.001 \t loss_decode 0.000\n",
      "accuracy =  1.0\n",
      "epoch: 53\t batch_i: 2\tLoss 0.089\t loss_sigmod 0.001 \t loss_decode 0.000\n",
      "accuracy =  1.0\n",
      "epoch: 54\t batch_i: 2\tLoss 0.089\t loss_sigmod 0.000 \t loss_decode 0.000\n",
      "accuracy =  1.0\n",
      "epoch: 55\t batch_i: 2\tLoss 0.089\t loss_sigmod 0.000 \t loss_decode 0.000\n",
      "accuracy =  1.0\n",
      "epoch: 56\t batch_i: 2\tLoss 0.088\t loss_sigmod 0.000 \t loss_decode 0.000\n",
      "accuracy =  1.0\n",
      "epoch: 57\t batch_i: 2\tLoss 0.088\t loss_sigmod 0.000 \t loss_decode 0.000\n",
      "accuracy =  1.0\n",
      "epoch: 58\t batch_i: 2\tLoss 0.088\t loss_sigmod 0.000 \t loss_decode 0.000\n",
      "accuracy =  1.0\n",
      "epoch: 59\t batch_i: 2\tLoss 0.088\t loss_sigmod 0.000 \t loss_decode 0.000\n",
      "accuracy =  1.0\n",
      "epoch: 60\t batch_i: 2\tLoss 0.088\t loss_sigmod 0.000 \t loss_decode 0.000\n",
      "accuracy =  1.0\n",
      "epoch: 61\t batch_i: 2\tLoss 0.087\t loss_sigmod 0.000 \t loss_decode 0.000\n",
      "accuracy =  1.0\n",
      "epoch: 62\t batch_i: 2\tLoss 0.087\t loss_sigmod 0.000 \t loss_decode 0.000\n",
      "accuracy =  1.0\n",
      "epoch: 63\t batch_i: 2\tLoss 0.087\t loss_sigmod 0.000 \t loss_decode 0.000\n",
      "accuracy =  1.0\n",
      "epoch: 64\t batch_i: 2\tLoss 0.087\t loss_sigmod 0.000 \t loss_decode 0.000\n",
      "accuracy =  1.0\n",
      "epoch: 65\t batch_i: 2\tLoss 0.087\t loss_sigmod 0.000 \t loss_decode 0.000\n",
      "accuracy =  1.0\n",
      "epoch: 66\t batch_i: 2\tLoss 0.086\t loss_sigmod 0.000 \t loss_decode 0.000\n",
      "accuracy =  1.0\n",
      "epoch: 67\t batch_i: 2\tLoss 0.086\t loss_sigmod 0.000 \t loss_decode 0.000\n",
      "accuracy =  1.0\n",
      "epoch: 68\t batch_i: 2\tLoss 0.086\t loss_sigmod 0.000 \t loss_decode 0.000\n",
      "accuracy =  1.0\n",
      "epoch: 69\t batch_i: 2\tLoss 0.086\t loss_sigmod 0.000 \t loss_decode 0.000\n",
      "accuracy =  1.0\n",
      "epoch: 70\t batch_i: 2\tLoss 0.086\t loss_sigmod 0.000 \t loss_decode 0.000\n",
      "accuracy =  1.0\n",
      "epoch: 71\t batch_i: 2\tLoss 0.085\t loss_sigmod 0.000 \t loss_decode 0.000\n",
      "accuracy =  1.0\n",
      "epoch: 72\t batch_i: 2\tLoss 0.085\t loss_sigmod 0.000 \t loss_decode 0.000\n",
      "accuracy =  1.0\n",
      "epoch: 73\t batch_i: 2\tLoss 0.085\t loss_sigmod 0.000 \t loss_decode 0.000\n",
      "accuracy =  1.0\n",
      "epoch: 74\t batch_i: 2\tLoss 0.085\t loss_sigmod 0.000 \t loss_decode 0.000\n",
      "accuracy =  1.0\n",
      "epoch: 75\t batch_i: 2\tLoss 0.085\t loss_sigmod 0.000 \t loss_decode 0.000\n",
      "accuracy =  1.0\n",
      "epoch: 76\t batch_i: 2\tLoss 0.084\t loss_sigmod 0.000 \t loss_decode 0.000\n",
      "accuracy =  1.0\n",
      "epoch: 77\t batch_i: 2\tLoss 0.084\t loss_sigmod 0.000 \t loss_decode 0.000\n",
      "accuracy =  1.0\n",
      "epoch: 78\t batch_i: 2\tLoss 0.084\t loss_sigmod 0.000 \t loss_decode 0.000\n",
      "accuracy =  1.0\n",
      "epoch: 79\t batch_i: 2\tLoss 0.084\t loss_sigmod 0.000 \t loss_decode 0.000\n",
      "accuracy =  1.0\n"
     ]
    }
   ],
   "source": [
    "\"\"\"\n",
    "training\n",
    "\"\"\"\n",
    "epochs = 80\n",
    "cost_decode = tf.zeros(1)\n",
    "print('Checking the Training on a Single Batch...')\n",
    "with tf.Session() as sess:\n",
    "    # Initializing the variables\n",
    "    sess.run(tf.global_variables_initializer())\n",
    "    \n",
    "    # Training cycle\n",
    "    for epoch in range(epochs):\n",
    "        batch_i = 1\n",
    "        for batch_features,batch_feature_object, batch_labels in batch_features_labels(train_air,train_mobile,128):\n",
    "            arr_old = batch_labels\n",
    "            batch_i +=1\n",
    "            feed_dict={x:batch_features,y:batch_labels,x_o: batch_feature_object ,is_training:True}\n",
    "            _,loss,loss_s,step =  sess.run([optimizer,cost,cost_sig,global_step],feed_dict= feed_dict)\n",
    "            print('epoch: %d\\t batch_i: %d\\tLoss %2.3f\\t loss_sigmod %2.3f \\t loss_decode %2.3f'%(epoch,batch_i,loss,loss_s,0))\n",
    "        \n",
    "        feed_dict_v={x:valid_mobile,y:valid_mobile_label ,is_training:False}\n",
    "        accuary = sess.run(accuracy_gender,feed_dict= feed_dict_v)\n",
    "        print('accuracy = ',accuary)\n",
    "            "
   ]
  },
  {
   "cell_type": "code",
   "execution_count": null,
   "metadata": {
    "collapsed": true
   },
   "outputs": [],
   "source": []
  }
 ],
 "metadata": {
  "kernelspec": {
   "display_name": "Python 3",
   "language": "python",
   "name": "python3"
  },
  "language_info": {
   "codemirror_mode": {
    "name": "ipython",
    "version": 3
   },
   "file_extension": ".py",
   "mimetype": "text/x-python",
   "name": "python",
   "nbconvert_exporter": "python",
   "pygments_lexer": "ipython3",
   "version": "3.6.3"
  }
 },
 "nbformat": 4,
 "nbformat_minor": 1
}
